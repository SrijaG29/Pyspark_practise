{
  "cells": [
    {
      "cell_type": "markdown",
      "metadata": {
        "id": "view-in-github",
        "colab_type": "text"
      },
      "source": [
        "<a href=\"https://colab.research.google.com/github/SrijaG29/Pyspark_practise/blob/main/PySpark.ipynb\" target=\"_parent\"><img src=\"https://colab.research.google.com/assets/colab-badge.svg\" alt=\"Open In Colab\"/></a>"
      ]
    },
    {
      "cell_type": "markdown",
      "source": [
        "**PySpark**"
      ],
      "metadata": {
        "id": "jkGFc8_vK1u8"
      }
    },
    {
      "cell_type": "code",
      "source": [
        "!pip install pyspark"
      ],
      "metadata": {
        "colab": {
          "base_uri": "https://localhost:8080/"
        },
        "id": "iwyYusWzK1S9",
        "outputId": "74bd8188-594a-4787-8c34-025cc0cb5869"
      },
      "execution_count": 1,
      "outputs": [
        {
          "output_type": "stream",
          "name": "stdout",
          "text": [
            "Collecting pyspark\n",
            "  Downloading pyspark-3.5.1.tar.gz (317.0 MB)\n",
            "\u001b[2K     \u001b[90m━━━━━━━━━━━━━━━━━━━━━━━━━━━━━━━━━━━━━━━━\u001b[0m \u001b[32m317.0/317.0 MB\u001b[0m \u001b[31m5.1 MB/s\u001b[0m eta \u001b[36m0:00:00\u001b[0m\n",
            "\u001b[?25h  Preparing metadata (setup.py) ... \u001b[?25l\u001b[?25hdone\n",
            "Requirement already satisfied: py4j==0.10.9.7 in /usr/local/lib/python3.10/dist-packages (from pyspark) (0.10.9.7)\n",
            "Building wheels for collected packages: pyspark\n",
            "  Building wheel for pyspark (setup.py) ... \u001b[?25l\u001b[?25hdone\n",
            "  Created wheel for pyspark: filename=pyspark-3.5.1-py2.py3-none-any.whl size=317488490 sha256=889fb1841b82596524d52ffc1982ac64c4d8b108f48add839c3bf3c4de8d8503\n",
            "  Stored in directory: /root/.cache/pip/wheels/80/1d/60/2c256ed38dddce2fdd93be545214a63e02fbd8d74fb0b7f3a6\n",
            "Successfully built pyspark\n",
            "Installing collected packages: pyspark\n",
            "Successfully installed pyspark-3.5.1\n"
          ]
        }
      ]
    },
    {
      "cell_type": "code",
      "source": [
        "from pyspark import SparkConf,SparkContext"
      ],
      "metadata": {
        "id": "232cVfblL4Z0"
      },
      "execution_count": null,
      "outputs": []
    },
    {
      "cell_type": "code",
      "source": [
        "conf = SparkConf().setAppName(\"Read File\")\n",
        "sc = SparkContext.getOrCreate(conf = conf)"
      ],
      "metadata": {
        "id": "ivGpEkFrMFHv"
      },
      "execution_count": null,
      "outputs": []
    },
    {
      "cell_type": "markdown",
      "source": [
        "Instead of dowloading the text file using path of the file we can directly create the text file here."
      ],
      "metadata": {
        "id": "gY5yrqinODed"
      }
    },
    {
      "cell_type": "markdown",
      "source": [
        "For writing the file."
      ],
      "metadata": {
        "id": "rsoXUiUuOOH_"
      }
    },
    {
      "cell_type": "code",
      "source": [
        "with open('sampletext.txt', 'w') as f:\n",
        "  f.write('Hi How are you\\n')\n",
        "  f.write('Hope you are doing good\\n')\n",
        "  f.write('great')"
      ],
      "metadata": {
        "id": "XSGnYyHcMb-S"
      },
      "execution_count": null,
      "outputs": []
    },
    {
      "cell_type": "markdown",
      "source": [
        "For reading the file."
      ],
      "metadata": {
        "id": "m0z7KVUIOQpC"
      }
    },
    {
      "cell_type": "code",
      "source": [
        "with open('sampletext.txt','r') as f:\n",
        "  x = f.read()\n",
        "  print(x)"
      ],
      "metadata": {
        "colab": {
          "base_uri": "https://localhost:8080/"
        },
        "id": "ZFpDGc1kNciU",
        "outputId": "c1af69ec-9df6-4e61-b5a6-48fb88526499"
      },
      "execution_count": null,
      "outputs": [
        {
          "output_type": "stream",
          "name": "stdout",
          "text": [
            "Hi How are you\n",
            "Hope you are doing good\n",
            "great\n"
          ]
        }
      ]
    },
    {
      "cell_type": "markdown",
      "source": [
        "Fo direct download from the files in colab we need to give file path."
      ],
      "metadata": {
        "id": "Ch2CpByROfhQ"
      }
    },
    {
      "cell_type": "code",
      "source": [
        "text = sc.textFile('/content/sampletext.txt')\n",
        "text.collect()"
      ],
      "metadata": {
        "colab": {
          "base_uri": "https://localhost:8080/"
        },
        "id": "eKITf-o7OuJ8",
        "outputId": "0dc49eeb-4a41-4bdf-a124-fd9965187f49"
      },
      "execution_count": null,
      "outputs": [
        {
          "output_type": "execute_result",
          "data": {
            "text/plain": [
              "['Hi How are you', 'Hope you are doing good', 'great']"
            ]
          },
          "metadata": {},
          "execution_count": 22
        }
      ]
    },
    {
      "cell_type": "markdown",
      "source": [
        "This is another way to write or creat rdd."
      ],
      "metadata": {
        "id": "u17qTUmteTTu"
      }
    },
    {
      "cell_type": "code",
      "source": [
        "temp = sc.parallelize([['a','b','c'],['d','e','f']])\n",
        "temp.collect()"
      ],
      "metadata": {
        "id": "kpVbuyrFd77g",
        "outputId": "e44c588f-afd1-46d8-83b8-b33f2cc4f4de",
        "colab": {
          "base_uri": "https://localhost:8080/"
        }
      },
      "execution_count": null,
      "outputs": [
        {
          "output_type": "execute_result",
          "data": {
            "text/plain": [
              "[['a', 'b', 'c'], ['d', 'e', 'f']]"
            ]
          },
          "metadata": {},
          "execution_count": 7
        }
      ]
    },
    {
      "cell_type": "markdown",
      "source": [
        "**Map**\n",
        "It is used as a maper of data from one state to another."
      ],
      "metadata": {
        "id": "EEbemAS4O8X2"
      }
    },
    {
      "cell_type": "code",
      "source": [
        "rdd = text.map(lambda x : x.split(' '))"
      ],
      "metadata": {
        "id": "aMcVZGHsO7Sq"
      },
      "execution_count": null,
      "outputs": []
    },
    {
      "cell_type": "code",
      "source": [
        "rdd.collect()"
      ],
      "metadata": {
        "colab": {
          "base_uri": "https://localhost:8080/"
        },
        "id": "EqMvcmyzPlTM",
        "outputId": "61f5840e-ec44-41a9-85e4-c31c0cd12d4d"
      },
      "execution_count": null,
      "outputs": [
        {
          "output_type": "execute_result",
          "data": {
            "text/plain": [
              "[['Hi', 'How', 'are', 'you'],\n",
              " ['Hope', 'you', 'are', 'doing', 'good'],\n",
              " ['great']]"
            ]
          },
          "metadata": {},
          "execution_count": 24
        }
      ]
    },
    {
      "cell_type": "code",
      "source": [
        "def ex(x):\n",
        "  l = x.split()\n",
        "  f = []\n",
        "  for i in l:\n",
        "    f.append(i+'hello')\n",
        "  return f\n",
        "rdd1 = text.map(ex)"
      ],
      "metadata": {
        "id": "0g_ABmuBP_4t"
      },
      "execution_count": null,
      "outputs": []
    },
    {
      "cell_type": "code",
      "source": [
        "rdd1.collect()"
      ],
      "metadata": {
        "colab": {
          "base_uri": "https://localhost:8080/"
        },
        "id": "guDB87k0QYFN",
        "outputId": "d6384337-6506-4390-d1ce-410e388881cd"
      },
      "execution_count": null,
      "outputs": [
        {
          "output_type": "execute_result",
          "data": {
            "text/plain": [
              "[['Hihello', 'Howhello', 'arehello', 'youhello'],\n",
              " ['Hopehello', 'youhello', 'arehello', 'doinghello', 'goodhello'],\n",
              " ['greathello']]"
            ]
          },
          "metadata": {},
          "execution_count": 26
        }
      ]
    },
    {
      "cell_type": "markdown",
      "source": [
        "find the length of each word and return only length."
      ],
      "metadata": {
        "id": "30DVU-NzUCli"
      }
    },
    {
      "cell_type": "code",
      "source": [
        "def findlength(x):\n",
        "  l = x.split(' ')\n",
        "  f = ''\n",
        "  for i in range(len(l)):\n",
        "    if i!= len(l)-1:\n",
        "      f = f + str(len(l[i])) + ' '\n",
        "    else:\n",
        "      f = f + str(len(l[i]))\n",
        "  return f\n",
        "rdd = text.map(findlength)"
      ],
      "metadata": {
        "id": "vAVBcC6cQzj2"
      },
      "execution_count": null,
      "outputs": []
    },
    {
      "cell_type": "code",
      "source": [
        "rdd.collect()"
      ],
      "metadata": {
        "colab": {
          "base_uri": "https://localhost:8080/"
        },
        "id": "zk11h3kaTBPn",
        "outputId": "1ec65ce8-b106-4692-a3a2-d59c0fb7954a"
      },
      "execution_count": null,
      "outputs": [
        {
          "output_type": "execute_result",
          "data": {
            "text/plain": [
              "['2 3 3 3', '4 3 3 5 4', '5']"
            ]
          },
          "metadata": {},
          "execution_count": 28
        }
      ]
    },
    {
      "cell_type": "markdown",
      "source": [
        "**flatMap:**\n",
        " It is used as a mapper of data and explodes data before final output."
      ],
      "metadata": {
        "id": "frd7nYnyfpsk"
      }
    },
    {
      "cell_type": "code",
      "source": [
        "rdd1 = rdd.flatMap(lambda x : x.split(' '))\n",
        "rdd1.collect()"
      ],
      "metadata": {
        "id": "nIp3KddpbKkq",
        "outputId": "ce777f9e-8035-409e-b29c-baa0d6d457dc",
        "colab": {
          "base_uri": "https://localhost:8080/"
        }
      },
      "execution_count": null,
      "outputs": [
        {
          "output_type": "execute_result",
          "data": {
            "text/plain": [
              "['2', '3', '3', '3', '4', '3', '3', '5', '4', '5']"
            ]
          },
          "metadata": {},
          "execution_count": 29
        }
      ]
    },
    {
      "cell_type": "markdown",
      "source": [
        "**filter:** It is used to remove elements from rdd."
      ],
      "metadata": {
        "id": "2pMRFmJihMoc"
      }
    },
    {
      "cell_type": "code",
      "source": [
        "rdd2 = rdd1.filter(lambda x : x!='2')\n",
        "rdd2.collect()"
      ],
      "metadata": {
        "id": "rLZ72RVJhUgl",
        "outputId": "690ed30b-dee8-4c89-b840-74e329bb8050",
        "colab": {
          "base_uri": "https://localhost:8080/"
        }
      },
      "execution_count": null,
      "outputs": [
        {
          "output_type": "execute_result",
          "data": {
            "text/plain": [
              "['3', '3', '3', '4', '3', '3', '5', '4', '5']"
            ]
          },
          "metadata": {},
          "execution_count": 30
        }
      ]
    },
    {
      "cell_type": "code",
      "source": [
        "def ex(x):\n",
        "  if x != '2':\n",
        "    return True\n",
        "  else:\n",
        "    return False\n",
        "rdd2 = rdd1.filter(ex)\n",
        "rdd2.collect()"
      ],
      "metadata": {
        "id": "quYyoOn6iO2-",
        "outputId": "27ff34d3-4550-46b9-dfa1-b5e8d5847b1a",
        "colab": {
          "base_uri": "https://localhost:8080/"
        }
      },
      "execution_count": null,
      "outputs": [
        {
          "output_type": "execute_result",
          "data": {
            "text/plain": [
              "['3', '3', '3', '4', '3', '3', '5', '4', '5']"
            ]
          },
          "metadata": {},
          "execution_count": 31
        }
      ]
    },
    {
      "cell_type": "markdown",
      "source": [
        "**Distinct:** It is used to get unique/distinct elements"
      ],
      "metadata": {
        "id": "mmQnE_ZkjvCv"
      }
    },
    {
      "cell_type": "code",
      "source": [
        "def ex(x):\n",
        "  if x != '2':\n",
        "    return True\n",
        "  else:\n",
        "    return False\n",
        "rdd2 = rdd1.filter(ex)\n",
        "rdd3 = rdd2.distinct()\n",
        "rdd3.collect()"
      ],
      "metadata": {
        "id": "-ukyi9CXiz2p",
        "outputId": "90e221fb-e3f0-48b7-a781-989fbf7b98cb",
        "colab": {
          "base_uri": "https://localhost:8080/"
        }
      },
      "execution_count": null,
      "outputs": [
        {
          "output_type": "execute_result",
          "data": {
            "text/plain": [
              "['4', '3', '5']"
            ]
          },
          "metadata": {},
          "execution_count": 32
        }
      ]
    },
    {
      "cell_type": "markdown",
      "source": [
        "**Count:** It return no.of elemets in rdd."
      ],
      "metadata": {
        "id": "dLstEZFAklCO"
      }
    },
    {
      "cell_type": "code",
      "source": [
        "rdd2.count()"
      ],
      "metadata": {
        "id": "BwpmT9LPkqSM",
        "outputId": "95b84c8a-d325-449e-ba97-e88a6dd66a1b",
        "colab": {
          "base_uri": "https://localhost:8080/"
        }
      },
      "execution_count": null,
      "outputs": [
        {
          "output_type": "execute_result",
          "data": {
            "text/plain": [
              "9"
            ]
          },
          "metadata": {},
          "execution_count": 33
        }
      ]
    },
    {
      "cell_type": "markdown",
      "source": [
        "**CountByValue:** It provides how many times each value hass occur in rdd."
      ],
      "metadata": {
        "id": "9JyuGyLtk0VG"
      }
    },
    {
      "cell_type": "code",
      "source": [
        "rdd2.countByValue()"
      ],
      "metadata": {
        "id": "OKmpLAuNlCWa",
        "outputId": "b6510dc5-8d82-4bf0-80bf-3272a097909c",
        "colab": {
          "base_uri": "https://localhost:8080/"
        }
      },
      "execution_count": null,
      "outputs": [
        {
          "output_type": "execute_result",
          "data": {
            "text/plain": [
              "defaultdict(int, {'3': 5, '4': 2, '5': 2})"
            ]
          },
          "metadata": {},
          "execution_count": 34
        }
      ]
    },
    {
      "cell_type": "markdown",
      "source": [
        "**GroupByValue:** It is used to create groups based on Keys in RDD."
      ],
      "metadata": {
        "id": "9IpaI1hvBa1A"
      }
    },
    {
      "cell_type": "code",
      "source": [
        "def findlen(x):\n",
        "  return (x,len(x))\n",
        "rdd4 = rdd1.map(findlen)\n",
        "rdd4.groupByKey().mapValues(list).collect()"
      ],
      "metadata": {
        "colab": {
          "base_uri": "https://localhost:8080/"
        },
        "id": "37uXLIaFBl25",
        "outputId": "ecf6d23d-ec9c-4ed4-c46e-df3034138b4b"
      },
      "execution_count": null,
      "outputs": [
        {
          "output_type": "execute_result",
          "data": {
            "text/plain": [
              "[('4', [1, 1]), ('2', [1]), ('3', [1, 1, 1, 1, 1]), ('5', [1, 1])]"
            ]
          },
          "metadata": {},
          "execution_count": 35
        }
      ]
    },
    {
      "cell_type": "markdown",
      "source": [
        "**ReduceByKey:** It is used to combine data based on keys in rdd."
      ],
      "metadata": {
        "id": "F5lzXe4wEGQM"
      }
    },
    {
      "cell_type": "code",
      "source": [
        "rdd4.reduceByKey(lambda x,y:x+y).collect()"
      ],
      "metadata": {
        "colab": {
          "base_uri": "https://localhost:8080/"
        },
        "id": "1D2x5CPdD2Mm",
        "outputId": "f10bcae2-336b-4fcf-d8b3-089e3ddc523a"
      },
      "execution_count": null,
      "outputs": [
        {
          "output_type": "execute_result",
          "data": {
            "text/plain": [
              "[('4', 2), ('2', 1), ('3', 5), ('5', 2)]"
            ]
          },
          "metadata": {},
          "execution_count": 36
        }
      ]
    },
    {
      "cell_type": "markdown",
      "source": [
        "**Spark SQL**"
      ],
      "metadata": {
        "id": "u5V-EXUfGjwA"
      }
    },
    {
      "cell_type": "markdown",
      "source": [
        "If we read data from SprakContext then spark provides data as RDD.\n",
        "\n",
        "If we read data from SpaekSession then spark provides data as dataframes."
      ],
      "metadata": {
        "id": "7c-zy15kNOnZ"
      }
    },
    {
      "cell_type": "code",
      "source": [
        "from pyspark import SparkContext"
      ],
      "metadata": {
        "id": "UqDCc2mYGmd5"
      },
      "execution_count": 2,
      "outputs": []
    },
    {
      "cell_type": "code",
      "source": [
        "from pyspark.sql import SparkSession\n",
        "spark = SparkSession.builder\\\n",
        "        .appName(\"py-Spark\")\\\n",
        "        .getOrCreate()"
      ],
      "metadata": {
        "id": "En8dlkwLHuj7"
      },
      "execution_count": 3,
      "outputs": []
    },
    {
      "cell_type": "code",
      "source": [
        "!wget https://raw.githubusercontent.com/haneeth25/Libraries_prac/main/Student_performance_data%20_.csv"
      ],
      "metadata": {
        "id": "GYPKCwIXOW1M",
        "outputId": "8f748434-ecc3-463b-b5ae-4663d07f9b34",
        "colab": {
          "base_uri": "https://localhost:8080/"
        }
      },
      "execution_count": 6,
      "outputs": [
        {
          "output_type": "stream",
          "name": "stdout",
          "text": [
            "--2024-07-26 11:36:58--  https://raw.githubusercontent.com/haneeth25/Libraries_prac/main/Student_performance_data%20_.csv\n",
            "Resolving raw.githubusercontent.com (raw.githubusercontent.com)... 185.199.109.133, 185.199.111.133, 185.199.110.133, ...\n",
            "Connecting to raw.githubusercontent.com (raw.githubusercontent.com)|185.199.109.133|:443... connected.\n",
            "HTTP request sent, awaiting response... 200 OK\n",
            "Length: 166901 (163K) [text/plain]\n",
            "Saving to: ‘Student_performance_data _.csv.1’\n",
            "\n",
            "\r          Student_p   0%[                    ]       0  --.-KB/s               \rStudent_performance 100%[===================>] 162.99K  --.-KB/s    in 0.03s   \n",
            "\n",
            "2024-07-26 11:36:58 (4.79 MB/s) - ‘Student_performance_data _.csv.1’ saved [166901/166901]\n",
            "\n"
          ]
        }
      ]
    },
    {
      "cell_type": "markdown",
      "source": [
        "Here we are creating dataframe df by using csv file \"student_performance_data\"."
      ],
      "metadata": {
        "id": "csUr1O5bQmrK"
      }
    },
    {
      "cell_type": "code",
      "source": [
        "df = spark.read.option(\"header\",True).csv('/content/Student_performance_data_.csv')"
      ],
      "metadata": {
        "id": "9iiBQYJfN_01"
      },
      "execution_count": 20,
      "outputs": []
    },
    {
      "cell_type": "code",
      "source": [
        "df.show()"
      ],
      "metadata": {
        "id": "5BAoyQblOZLQ",
        "outputId": "d6bfdac6-80a6-423a-cae6-fa3f5943dda1",
        "colab": {
          "base_uri": "https://localhost:8080/"
        }
      },
      "execution_count": 21,
      "outputs": [
        {
          "output_type": "stream",
          "name": "stdout",
          "text": [
            "+---------+---+------+---------+-----------------+------------------+--------+--------+---------------+---------------+------+-----+------------+------------------+----------+\n",
            "|StudentID|Age|Gender|Ethnicity|ParentalEducation|   StudyTimeWeekly|Absences|Tutoring|ParentalSupport|Extracurricular|Sports|Music|Volunteering|               GPA|GradeClass|\n",
            "+---------+---+------+---------+-----------------+------------------+--------+--------+---------------+---------------+------+-----+------------+------------------+----------+\n",
            "|     1001| 17|     1|        0|                2|19.833722807854713|       7|       1|              2|              0|     0|    1|           0| 2.929195591667681|       2.0|\n",
            "|     1002| 18|     0|        0|                1| 15.40875605584674|       0|       0|              1|              0|     0|    0|           0| 3.042914833436377|       1.0|\n",
            "|     1003| 15|     0|        2|                3|  4.21056976881226|      26|       0|              2|              0|     0|    0|           0|0.1126022544661815|       4.0|\n",
            "|     1004| 17|     1|        0|                3|10.028829473958215|      14|       0|              3|              1|     0|    0|           0|2.0542181397029484|       3.0|\n",
            "|     1005| 17|     1|        0|                2|4.6724952729713305|      17|       1|              3|              0|     0|    0|           0|1.2880611817953875|       4.0|\n",
            "|     1006| 18|     0|        0|                1| 8.191218545250186|       0|       0|              1|              1|     0|    0|           0|3.0841836144863937|       1.0|\n",
            "|     1007| 15|     0|        1|                1|15.601680474699295|      10|       0|              3|              0|     1|    0|           0| 2.748237414891583|       2.0|\n",
            "|     1008| 15|     1|        1|                4|15.424496305808074|      22|       1|              1|              1|     0|    0|           0| 1.360142712316461|       4.0|\n",
            "|     1009| 17|     0|        0|                0| 4.562007558047703|       1|       0|              2|              0|     1|    0|           1| 2.896819189513569|       2.0|\n",
            "|     1010| 16|     1|        0|                1|18.444466363097202|       0|       0|              3|              1|     0|    0|           0|3.5734742103297656|       0.0|\n",
            "|     1011| 17|     0|        0|                1|11.851363655296536|      11|       0|              1|              0|     0|    0|           0|2.1471716250185144|       3.0|\n",
            "|     1012| 17|     0|        0|                1|  7.59848581924029|      15|       0|              2|              0|     0|    0|           1|1.5595945190402773|       4.0|\n",
            "|     1013| 17|     0|        1|                1|10.038711615617213|      21|       0|              3|              1|     0|    0|           0| 1.520077814874808|       4.0|\n",
            "|     1014| 17|     0|        1|                2|12.101425068754875|      21|       0|              4|              0|     1|    0|           0|1.7515809583340785|       4.0|\n",
            "|     1015| 18|     1|        0|                1|11.197810636915708|       9|       1|              2|              0|     0|    0|           0| 2.396788117124796|       3.0|\n",
            "|     1016| 15|     0|        0|                2| 9.728100710723563|      17|       1|              0|              0|     1|    0|           0|1.3415207165346672|       4.0|\n",
            "|     1017| 18|     0|        3|                1|10.098656081788002|      14|       0|              2|              1|     1|    0|           0|2.2321752777159762|       3.0|\n",
            "|     1018| 18|     1|        0|                0|3.5282382085577235|      16|       1|              2|              0|     0|    0|           0|1.3844041756940335|       4.0|\n",
            "|     1019| 18|     0|        1|                3| 16.25465808609359|      29|       0|              2|              1|     0|    0|           1|0.4695533233798704|       4.0|\n",
            "|     1020| 17|     0|        0|                1|10.835206398820308|       9|       0|              2|              0|     0|    1|           0|2.3957840945306996|       3.0|\n",
            "+---------+---+------+---------+-----------------+------------------+--------+--------+---------------+---------------+------+-----+------------+------------------+----------+\n",
            "only showing top 20 rows\n",
            "\n"
          ]
        }
      ]
    },
    {
      "cell_type": "markdown",
      "source": [
        "We will print Schema of the data frame by default it will take all datatupes as strings."
      ],
      "metadata": {
        "id": "8TncKDwPTJhf"
      }
    },
    {
      "cell_type": "code",
      "source": [
        "df.printSchema()"
      ],
      "metadata": {
        "id": "jX8Hmq8KPGhK",
        "outputId": "8c131dd1-1a71-4696-a9d9-d266903b41c2",
        "colab": {
          "base_uri": "https://localhost:8080/"
        }
      },
      "execution_count": 22,
      "outputs": [
        {
          "output_type": "stream",
          "name": "stdout",
          "text": [
            "root\n",
            " |-- StudentID: string (nullable = true)\n",
            " |-- Age: string (nullable = true)\n",
            " |-- Gender: string (nullable = true)\n",
            " |-- Ethnicity: string (nullable = true)\n",
            " |-- ParentalEducation: string (nullable = true)\n",
            " |-- StudyTimeWeekly: string (nullable = true)\n",
            " |-- Absences: string (nullable = true)\n",
            " |-- Tutoring: string (nullable = true)\n",
            " |-- ParentalSupport: string (nullable = true)\n",
            " |-- Extracurricular: string (nullable = true)\n",
            " |-- Sports: string (nullable = true)\n",
            " |-- Music: string (nullable = true)\n",
            " |-- Volunteering: string (nullable = true)\n",
            " |-- GPA: string (nullable = true)\n",
            " |-- GradeClass: string (nullable = true)\n",
            "\n"
          ]
        }
      ]
    },
    {
      "cell_type": "markdown",
      "source": [
        "If we want it to automatically take the datatype as the datatype in csv then we use this way."
      ],
      "metadata": {
        "id": "jAr9qxUITao-"
      }
    },
    {
      "cell_type": "code",
      "source": [
        "df = spark.read.option('inferSchema',True).option('header',True).csv('/content/Student_performance_data_.csv')\n",
        "# df.show()\n",
        "df.printSchema()"
      ],
      "metadata": {
        "id": "ekjIs4UUUIZ-",
        "outputId": "c115beb4-f383-416a-c09a-c1477f01c800",
        "colab": {
          "base_uri": "https://localhost:8080/"
        }
      },
      "execution_count": 24,
      "outputs": [
        {
          "output_type": "stream",
          "name": "stdout",
          "text": [
            "root\n",
            " |-- StudentID: integer (nullable = true)\n",
            " |-- Age: integer (nullable = true)\n",
            " |-- Gender: integer (nullable = true)\n",
            " |-- Ethnicity: integer (nullable = true)\n",
            " |-- ParentalEducation: integer (nullable = true)\n",
            " |-- StudyTimeWeekly: double (nullable = true)\n",
            " |-- Absences: integer (nullable = true)\n",
            " |-- Tutoring: integer (nullable = true)\n",
            " |-- ParentalSupport: integer (nullable = true)\n",
            " |-- Extracurricular: integer (nullable = true)\n",
            " |-- Sports: integer (nullable = true)\n",
            " |-- Music: integer (nullable = true)\n",
            " |-- Volunteering: integer (nullable = true)\n",
            " |-- GPA: double (nullable = true)\n",
            " |-- GradeClass: double (nullable = true)\n",
            "\n"
          ]
        }
      ]
    },
    {
      "cell_type": "markdown",
      "source": [
        "If we want to assign datatypes manually then we need to use this.\n",
        "\n",
        "for this first we need to import StuctType,StructField,StringType,IntegerType."
      ],
      "metadata": {
        "id": "DUQCd3X4U2x9"
      }
    },
    {
      "cell_type": "code",
      "source": [
        "from pyspark.sql.types import StructType,StructField,StringType,IntegerType"
      ],
      "metadata": {
        "id": "YpCgGgiw2D6-"
      },
      "execution_count": 15,
      "outputs": []
    },
    {
      "cell_type": "code",
      "source": [
        "s = StructType(\n",
        "    [\n",
        "        StructField('age',IntegerType(),True),\n",
        "        StructField('Gender',IntegerType(),True),\n",
        "        StructField('Ethnicity',IntegerType(),True),\n",
        "    ]\n",
        ")\n",
        "\n",
        "df = spark.read.options(header='True').schema(s).csv('/content/Student_performance_data_.csv')\n",
        "df.printSchema()"
      ],
      "metadata": {
        "id": "wwOENFuJVBtm",
        "outputId": "452318bf-404c-43ad-ce1c-c5fb7c0eb34c",
        "colab": {
          "base_uri": "https://localhost:8080/"
        }
      },
      "execution_count": 23,
      "outputs": [
        {
          "output_type": "stream",
          "name": "stdout",
          "text": [
            "root\n",
            " |-- age: integer (nullable = true)\n",
            " |-- Gender: integer (nullable = true)\n",
            " |-- Ethnicity: integer (nullable = true)\n",
            "\n"
          ]
        }
      ]
    },
    {
      "cell_type": "markdown",
      "source": [
        "**Selecting DataFrame Columns:**"
      ],
      "metadata": {
        "id": "cmCyioRQ3RQT"
      }
    },
    {
      "cell_type": "code",
      "source": [
        "df.select('gender').show()"
      ],
      "metadata": {
        "id": "bh7eedqZ3kpC",
        "outputId": "062e3227-4562-4cd1-a814-75c9f2beafb7",
        "colab": {
          "base_uri": "https://localhost:8080/"
        }
      },
      "execution_count": 27,
      "outputs": [
        {
          "output_type": "stream",
          "name": "stdout",
          "text": [
            "+------+\n",
            "|gender|\n",
            "+------+\n",
            "|     1|\n",
            "|     0|\n",
            "|     0|\n",
            "|     1|\n",
            "|     1|\n",
            "|     0|\n",
            "|     0|\n",
            "|     1|\n",
            "|     0|\n",
            "|     1|\n",
            "|     0|\n",
            "|     0|\n",
            "|     0|\n",
            "|     0|\n",
            "|     1|\n",
            "|     0|\n",
            "|     0|\n",
            "|     1|\n",
            "|     0|\n",
            "|     0|\n",
            "+------+\n",
            "only showing top 20 rows\n",
            "\n"
          ]
        }
      ]
    },
    {
      "cell_type": "code",
      "source": [
        "df.select('gender','age').show()"
      ],
      "metadata": {
        "id": "TixtmWvu3ZD2",
        "outputId": "4b4f5a3c-045c-4811-a24e-7d4be732eb6f",
        "colab": {
          "base_uri": "https://localhost:8080/"
        }
      },
      "execution_count": 26,
      "outputs": [
        {
          "output_type": "stream",
          "name": "stdout",
          "text": [
            "+------+---+\n",
            "|gender|age|\n",
            "+------+---+\n",
            "|     1| 17|\n",
            "|     0| 18|\n",
            "|     0| 15|\n",
            "|     1| 17|\n",
            "|     1| 17|\n",
            "|     0| 18|\n",
            "|     0| 15|\n",
            "|     1| 15|\n",
            "|     0| 17|\n",
            "|     1| 16|\n",
            "|     0| 17|\n",
            "|     0| 17|\n",
            "|     0| 17|\n",
            "|     0| 17|\n",
            "|     1| 18|\n",
            "|     0| 15|\n",
            "|     0| 18|\n",
            "|     1| 18|\n",
            "|     0| 18|\n",
            "|     0| 17|\n",
            "+------+---+\n",
            "only showing top 20 rows\n",
            "\n"
          ]
        }
      ]
    },
    {
      "cell_type": "markdown",
      "source": [
        "when we give like this the column names become case sensitive."
      ],
      "metadata": {
        "id": "Q4066Q_53-QM"
      }
    },
    {
      "cell_type": "code",
      "source": [
        "df.select(df.Gender,df.Age).show()"
      ],
      "metadata": {
        "id": "DMKBHhpf3msH",
        "outputId": "b4aff55f-1452-4fca-d663-070ea6dabeda",
        "colab": {
          "base_uri": "https://localhost:8080/"
        }
      },
      "execution_count": 31,
      "outputs": [
        {
          "output_type": "stream",
          "name": "stdout",
          "text": [
            "+------+---+\n",
            "|Gender|Age|\n",
            "+------+---+\n",
            "|     1| 17|\n",
            "|     0| 18|\n",
            "|     0| 15|\n",
            "|     1| 17|\n",
            "|     1| 17|\n",
            "|     0| 18|\n",
            "|     0| 15|\n",
            "|     1| 15|\n",
            "|     0| 17|\n",
            "|     1| 16|\n",
            "|     0| 17|\n",
            "|     0| 17|\n",
            "|     0| 17|\n",
            "|     0| 17|\n",
            "|     1| 18|\n",
            "|     0| 15|\n",
            "|     0| 18|\n",
            "|     1| 18|\n",
            "|     0| 18|\n",
            "|     0| 17|\n",
            "+------+---+\n",
            "only showing top 20 rows\n",
            "\n"
          ]
        }
      ]
    },
    {
      "cell_type": "markdown",
      "source": [
        "To get all columns."
      ],
      "metadata": {
        "id": "O12ABvRo4GTA"
      }
    },
    {
      "cell_type": "code",
      "source": [
        "df.select('*').show()"
      ],
      "metadata": {
        "id": "kltR0vE13qSE",
        "outputId": "cc75f07a-ebb7-46be-e9e8-0c525fdcdd77",
        "colab": {
          "base_uri": "https://localhost:8080/"
        }
      },
      "execution_count": 32,
      "outputs": [
        {
          "output_type": "stream",
          "name": "stdout",
          "text": [
            "+---------+---+------+---------+-----------------+------------------+--------+--------+---------------+---------------+------+-----+------------+------------------+----------+\n",
            "|StudentID|Age|Gender|Ethnicity|ParentalEducation|   StudyTimeWeekly|Absences|Tutoring|ParentalSupport|Extracurricular|Sports|Music|Volunteering|               GPA|GradeClass|\n",
            "+---------+---+------+---------+-----------------+------------------+--------+--------+---------------+---------------+------+-----+------------+------------------+----------+\n",
            "|     1001| 17|     1|        0|                2|19.833722807854713|       7|       1|              2|              0|     0|    1|           0| 2.929195591667681|       2.0|\n",
            "|     1002| 18|     0|        0|                1| 15.40875605584674|       0|       0|              1|              0|     0|    0|           0| 3.042914833436377|       1.0|\n",
            "|     1003| 15|     0|        2|                3|  4.21056976881226|      26|       0|              2|              0|     0|    0|           0|0.1126022544661815|       4.0|\n",
            "|     1004| 17|     1|        0|                3|10.028829473958215|      14|       0|              3|              1|     0|    0|           0|2.0542181397029484|       3.0|\n",
            "|     1005| 17|     1|        0|                2|4.6724952729713305|      17|       1|              3|              0|     0|    0|           0|1.2880611817953875|       4.0|\n",
            "|     1006| 18|     0|        0|                1| 8.191218545250186|       0|       0|              1|              1|     0|    0|           0|3.0841836144863937|       1.0|\n",
            "|     1007| 15|     0|        1|                1|15.601680474699295|      10|       0|              3|              0|     1|    0|           0| 2.748237414891583|       2.0|\n",
            "|     1008| 15|     1|        1|                4|15.424496305808074|      22|       1|              1|              1|     0|    0|           0| 1.360142712316461|       4.0|\n",
            "|     1009| 17|     0|        0|                0| 4.562007558047703|       1|       0|              2|              0|     1|    0|           1| 2.896819189513569|       2.0|\n",
            "|     1010| 16|     1|        0|                1|18.444466363097202|       0|       0|              3|              1|     0|    0|           0|3.5734742103297656|       0.0|\n",
            "|     1011| 17|     0|        0|                1|11.851363655296536|      11|       0|              1|              0|     0|    0|           0|2.1471716250185144|       3.0|\n",
            "|     1012| 17|     0|        0|                1|  7.59848581924029|      15|       0|              2|              0|     0|    0|           1|1.5595945190402773|       4.0|\n",
            "|     1013| 17|     0|        1|                1|10.038711615617213|      21|       0|              3|              1|     0|    0|           0| 1.520077814874808|       4.0|\n",
            "|     1014| 17|     0|        1|                2|12.101425068754875|      21|       0|              4|              0|     1|    0|           0|1.7515809583340785|       4.0|\n",
            "|     1015| 18|     1|        0|                1|11.197810636915708|       9|       1|              2|              0|     0|    0|           0| 2.396788117124796|       3.0|\n",
            "|     1016| 15|     0|        0|                2| 9.728100710723563|      17|       1|              0|              0|     1|    0|           0|1.3415207165346672|       4.0|\n",
            "|     1017| 18|     0|        3|                1|10.098656081788002|      14|       0|              2|              1|     1|    0|           0|2.2321752777159762|       3.0|\n",
            "|     1018| 18|     1|        0|                0|3.5282382085577235|      16|       1|              2|              0|     0|    0|           0|1.3844041756940335|       4.0|\n",
            "|     1019| 18|     0|        1|                3| 16.25465808609359|      29|       0|              2|              1|     0|    0|           1|0.4695533233798704|       4.0|\n",
            "|     1020| 17|     0|        0|                1|10.835206398820308|       9|       0|              2|              0|     0|    1|           0|2.3957840945306996|       3.0|\n",
            "+---------+---+------+---------+-----------------+------------------+--------+--------+---------------+---------------+------+-----+------------+------------------+----------+\n",
            "only showing top 20 rows\n",
            "\n"
          ]
        }
      ]
    },
    {
      "cell_type": "markdown",
      "source": [
        "If we want to know what all columns are there then we use this."
      ],
      "metadata": {
        "id": "y0iPGP3D4O-1"
      }
    },
    {
      "cell_type": "code",
      "source": [
        "df.columns"
      ],
      "metadata": {
        "id": "N74RzaHD4OcF",
        "outputId": "70570637-8b11-4ba9-e4ca-6f34167a6423",
        "colab": {
          "base_uri": "https://localhost:8080/"
        }
      },
      "execution_count": 33,
      "outputs": [
        {
          "output_type": "execute_result",
          "data": {
            "text/plain": [
              "['StudentID',\n",
              " 'Age',\n",
              " 'Gender',\n",
              " 'Ethnicity',\n",
              " 'ParentalEducation',\n",
              " 'StudyTimeWeekly',\n",
              " 'Absences',\n",
              " 'Tutoring',\n",
              " 'ParentalSupport',\n",
              " 'Extracurricular',\n",
              " 'Sports',\n",
              " 'Music',\n",
              " 'Volunteering',\n",
              " 'GPA',\n",
              " 'GradeClass']"
            ]
          },
          "metadata": {},
          "execution_count": 33
        }
      ]
    },
    {
      "cell_type": "markdown",
      "source": [
        "I we want column name of 2nd columns or any particular number then we use this."
      ],
      "metadata": {
        "id": "_jEF-1BO4V5I"
      }
    },
    {
      "cell_type": "code",
      "source": [
        "df.columns[2]"
      ],
      "metadata": {
        "id": "z6S6O95E4bQ5",
        "outputId": "28c6f5b8-3bbd-488a-9af3-2269f93531f7",
        "colab": {
          "base_uri": "https://localhost:8080/",
          "height": 35
        }
      },
      "execution_count": 34,
      "outputs": [
        {
          "output_type": "execute_result",
          "data": {
            "text/plain": [
              "'Gender'"
            ],
            "application/vnd.google.colaboratory.intrinsic+json": {
              "type": "string"
            }
          },
          "metadata": {},
          "execution_count": 34
        }
      ]
    },
    {
      "cell_type": "markdown",
      "source": [
        "If we want 2nd column to show and we don't know the column name tehn we use this."
      ],
      "metadata": {
        "id": "HF_YKgU_4fc2"
      }
    },
    {
      "cell_type": "code",
      "source": [
        "df.select(df.columns[2]).show()"
      ],
      "metadata": {
        "id": "lBwmCgTK4drV",
        "outputId": "17926511-c5b6-46a9-e775-667bdda4ca30",
        "colab": {
          "base_uri": "https://localhost:8080/"
        }
      },
      "execution_count": 35,
      "outputs": [
        {
          "output_type": "stream",
          "name": "stdout",
          "text": [
            "+------+\n",
            "|Gender|\n",
            "+------+\n",
            "|     1|\n",
            "|     0|\n",
            "|     0|\n",
            "|     1|\n",
            "|     1|\n",
            "|     0|\n",
            "|     0|\n",
            "|     1|\n",
            "|     0|\n",
            "|     1|\n",
            "|     0|\n",
            "|     0|\n",
            "|     0|\n",
            "|     0|\n",
            "|     1|\n",
            "|     0|\n",
            "|     0|\n",
            "|     1|\n",
            "|     0|\n",
            "|     0|\n",
            "+------+\n",
            "only showing top 20 rows\n",
            "\n"
          ]
        }
      ]
    },
    {
      "cell_type": "markdown",
      "source": [
        "If i want to show columns from 2nd to 4th then we use this. (column slicing staring point is inclusive but ending point is exclusive.)"
      ],
      "metadata": {
        "id": "2W64E5aR4zl2"
      }
    },
    {
      "cell_type": "code",
      "source": [
        "df.select(df.columns[2:5]).show()"
      ],
      "metadata": {
        "id": "JQ3mSSAJ5DzZ",
        "outputId": "8065e051-6f98-4a4a-c035-95fd2e3c9655",
        "colab": {
          "base_uri": "https://localhost:8080/"
        }
      },
      "execution_count": 36,
      "outputs": [
        {
          "output_type": "stream",
          "name": "stdout",
          "text": [
            "+------+---------+-----------------+\n",
            "|Gender|Ethnicity|ParentalEducation|\n",
            "+------+---------+-----------------+\n",
            "|     1|        0|                2|\n",
            "|     0|        0|                1|\n",
            "|     0|        2|                3|\n",
            "|     1|        0|                3|\n",
            "|     1|        0|                2|\n",
            "|     0|        0|                1|\n",
            "|     0|        1|                1|\n",
            "|     1|        1|                4|\n",
            "|     0|        0|                0|\n",
            "|     1|        0|                1|\n",
            "|     0|        0|                1|\n",
            "|     0|        0|                1|\n",
            "|     0|        1|                1|\n",
            "|     0|        1|                2|\n",
            "|     1|        0|                1|\n",
            "|     0|        0|                2|\n",
            "|     0|        3|                1|\n",
            "|     1|        0|                0|\n",
            "|     0|        1|                3|\n",
            "|     0|        0|                1|\n",
            "+------+---------+-----------------+\n",
            "only showing top 20 rows\n",
            "\n"
          ]
        }
      ]
    },
    {
      "cell_type": "markdown",
      "source": [
        "To create new calumn by using existing column then we use **with column**"
      ],
      "metadata": {
        "id": "aE7-C_jy5PHD"
      }
    },
    {
      "cell_type": "markdown",
      "source": [
        "here iam creating a new column new_age by using existing column age.\n",
        "\n",
        "For this first we need to import col."
      ],
      "metadata": {
        "id": "4Lgf4NRG5Z3A"
      }
    },
    {
      "cell_type": "code",
      "source": [
        "from pyspark.sql.functions import col\n",
        "df1 = df.withColumn('New_age',col('Age')+5)\n",
        "df1.show()"
      ],
      "metadata": {
        "id": "bL3kk2Ei5VUB",
        "outputId": "5a7d6edc-d7d6-4cf9-f528-f7d661031b87",
        "colab": {
          "base_uri": "https://localhost:8080/"
        }
      },
      "execution_count": 38,
      "outputs": [
        {
          "output_type": "stream",
          "name": "stdout",
          "text": [
            "+---------+---+------+---------+-----------------+------------------+--------+--------+---------------+---------------+------+-----+------------+------------------+----------+-------+\n",
            "|StudentID|Age|Gender|Ethnicity|ParentalEducation|   StudyTimeWeekly|Absences|Tutoring|ParentalSupport|Extracurricular|Sports|Music|Volunteering|               GPA|GradeClass|New_age|\n",
            "+---------+---+------+---------+-----------------+------------------+--------+--------+---------------+---------------+------+-----+------------+------------------+----------+-------+\n",
            "|     1001| 17|     1|        0|                2|19.833722807854713|       7|       1|              2|              0|     0|    1|           0| 2.929195591667681|       2.0|     22|\n",
            "|     1002| 18|     0|        0|                1| 15.40875605584674|       0|       0|              1|              0|     0|    0|           0| 3.042914833436377|       1.0|     23|\n",
            "|     1003| 15|     0|        2|                3|  4.21056976881226|      26|       0|              2|              0|     0|    0|           0|0.1126022544661815|       4.0|     20|\n",
            "|     1004| 17|     1|        0|                3|10.028829473958215|      14|       0|              3|              1|     0|    0|           0|2.0542181397029484|       3.0|     22|\n",
            "|     1005| 17|     1|        0|                2|4.6724952729713305|      17|       1|              3|              0|     0|    0|           0|1.2880611817953875|       4.0|     22|\n",
            "|     1006| 18|     0|        0|                1| 8.191218545250186|       0|       0|              1|              1|     0|    0|           0|3.0841836144863937|       1.0|     23|\n",
            "|     1007| 15|     0|        1|                1|15.601680474699295|      10|       0|              3|              0|     1|    0|           0| 2.748237414891583|       2.0|     20|\n",
            "|     1008| 15|     1|        1|                4|15.424496305808074|      22|       1|              1|              1|     0|    0|           0| 1.360142712316461|       4.0|     20|\n",
            "|     1009| 17|     0|        0|                0| 4.562007558047703|       1|       0|              2|              0|     1|    0|           1| 2.896819189513569|       2.0|     22|\n",
            "|     1010| 16|     1|        0|                1|18.444466363097202|       0|       0|              3|              1|     0|    0|           0|3.5734742103297656|       0.0|     21|\n",
            "|     1011| 17|     0|        0|                1|11.851363655296536|      11|       0|              1|              0|     0|    0|           0|2.1471716250185144|       3.0|     22|\n",
            "|     1012| 17|     0|        0|                1|  7.59848581924029|      15|       0|              2|              0|     0|    0|           1|1.5595945190402773|       4.0|     22|\n",
            "|     1013| 17|     0|        1|                1|10.038711615617213|      21|       0|              3|              1|     0|    0|           0| 1.520077814874808|       4.0|     22|\n",
            "|     1014| 17|     0|        1|                2|12.101425068754875|      21|       0|              4|              0|     1|    0|           0|1.7515809583340785|       4.0|     22|\n",
            "|     1015| 18|     1|        0|                1|11.197810636915708|       9|       1|              2|              0|     0|    0|           0| 2.396788117124796|       3.0|     23|\n",
            "|     1016| 15|     0|        0|                2| 9.728100710723563|      17|       1|              0|              0|     1|    0|           0|1.3415207165346672|       4.0|     20|\n",
            "|     1017| 18|     0|        3|                1|10.098656081788002|      14|       0|              2|              1|     1|    0|           0|2.2321752777159762|       3.0|     23|\n",
            "|     1018| 18|     1|        0|                0|3.5282382085577235|      16|       1|              2|              0|     0|    0|           0|1.3844041756940335|       4.0|     23|\n",
            "|     1019| 18|     0|        1|                3| 16.25465808609359|      29|       0|              2|              1|     0|    0|           1|0.4695533233798704|       4.0|     23|\n",
            "|     1020| 17|     0|        0|                1|10.835206398820308|       9|       0|              2|              0|     0|    1|           0|2.3957840945306996|       3.0|     22|\n",
            "+---------+---+------+---------+-----------------+------------------+--------+--------+---------------+---------------+------+-----+------------+------------------+----------+-------+\n",
            "only showing top 20 rows\n",
            "\n"
          ]
        }
      ]
    },
    {
      "cell_type": "markdown",
      "source": [
        "We can change values of a column by using it self instead of creating new column."
      ],
      "metadata": {
        "id": "ZVa8l6wI6eIE"
      }
    },
    {
      "cell_type": "code",
      "source": [
        "df = df.withColumn('Age',col('Age')+5)\n",
        "df.show()"
      ],
      "metadata": {
        "id": "VUIkdzwr6mvQ",
        "outputId": "f21dc052-5775-45f7-9486-d2ab5791f2f2",
        "colab": {
          "base_uri": "https://localhost:8080/"
        }
      },
      "execution_count": 39,
      "outputs": [
        {
          "output_type": "stream",
          "name": "stdout",
          "text": [
            "+---------+---+------+---------+-----------------+------------------+--------+--------+---------------+---------------+------+-----+------------+------------------+----------+\n",
            "|StudentID|Age|Gender|Ethnicity|ParentalEducation|   StudyTimeWeekly|Absences|Tutoring|ParentalSupport|Extracurricular|Sports|Music|Volunteering|               GPA|GradeClass|\n",
            "+---------+---+------+---------+-----------------+------------------+--------+--------+---------------+---------------+------+-----+------------+------------------+----------+\n",
            "|     1001| 22|     1|        0|                2|19.833722807854713|       7|       1|              2|              0|     0|    1|           0| 2.929195591667681|       2.0|\n",
            "|     1002| 23|     0|        0|                1| 15.40875605584674|       0|       0|              1|              0|     0|    0|           0| 3.042914833436377|       1.0|\n",
            "|     1003| 20|     0|        2|                3|  4.21056976881226|      26|       0|              2|              0|     0|    0|           0|0.1126022544661815|       4.0|\n",
            "|     1004| 22|     1|        0|                3|10.028829473958215|      14|       0|              3|              1|     0|    0|           0|2.0542181397029484|       3.0|\n",
            "|     1005| 22|     1|        0|                2|4.6724952729713305|      17|       1|              3|              0|     0|    0|           0|1.2880611817953875|       4.0|\n",
            "|     1006| 23|     0|        0|                1| 8.191218545250186|       0|       0|              1|              1|     0|    0|           0|3.0841836144863937|       1.0|\n",
            "|     1007| 20|     0|        1|                1|15.601680474699295|      10|       0|              3|              0|     1|    0|           0| 2.748237414891583|       2.0|\n",
            "|     1008| 20|     1|        1|                4|15.424496305808074|      22|       1|              1|              1|     0|    0|           0| 1.360142712316461|       4.0|\n",
            "|     1009| 22|     0|        0|                0| 4.562007558047703|       1|       0|              2|              0|     1|    0|           1| 2.896819189513569|       2.0|\n",
            "|     1010| 21|     1|        0|                1|18.444466363097202|       0|       0|              3|              1|     0|    0|           0|3.5734742103297656|       0.0|\n",
            "|     1011| 22|     0|        0|                1|11.851363655296536|      11|       0|              1|              0|     0|    0|           0|2.1471716250185144|       3.0|\n",
            "|     1012| 22|     0|        0|                1|  7.59848581924029|      15|       0|              2|              0|     0|    0|           1|1.5595945190402773|       4.0|\n",
            "|     1013| 22|     0|        1|                1|10.038711615617213|      21|       0|              3|              1|     0|    0|           0| 1.520077814874808|       4.0|\n",
            "|     1014| 22|     0|        1|                2|12.101425068754875|      21|       0|              4|              0|     1|    0|           0|1.7515809583340785|       4.0|\n",
            "|     1015| 23|     1|        0|                1|11.197810636915708|       9|       1|              2|              0|     0|    0|           0| 2.396788117124796|       3.0|\n",
            "|     1016| 20|     0|        0|                2| 9.728100710723563|      17|       1|              0|              0|     1|    0|           0|1.3415207165346672|       4.0|\n",
            "|     1017| 23|     0|        3|                1|10.098656081788002|      14|       0|              2|              1|     1|    0|           0|2.2321752777159762|       3.0|\n",
            "|     1018| 23|     1|        0|                0|3.5282382085577235|      16|       1|              2|              0|     0|    0|           0|1.3844041756940335|       4.0|\n",
            "|     1019| 23|     0|        1|                3| 16.25465808609359|      29|       0|              2|              1|     0|    0|           1|0.4695533233798704|       4.0|\n",
            "|     1020| 22|     0|        0|                1|10.835206398820308|       9|       0|              2|              0|     0|    1|           0|2.3957840945306996|       3.0|\n",
            "+---------+---+------+---------+-----------------+------------------+--------+--------+---------------+---------------+------+-----+------------+------------------+----------+\n",
            "only showing top 20 rows\n",
            "\n"
          ]
        }
      ]
    },
    {
      "cell_type": "markdown",
      "source": [
        "We can change the values of a column without using aexisting column by using **lit.**"
      ],
      "metadata": {
        "id": "FYONLwpt6ywQ"
      }
    },
    {
      "cell_type": "markdown",
      "source": [
        "Here it will change all the values of age column to 23."
      ],
      "metadata": {
        "id": "aH4YXAst7ScZ"
      }
    },
    {
      "cell_type": "code",
      "source": [
        "from pyspark.sql.functions import lit\n",
        "df2 = df.withColumn('age',lit(23))\n",
        "df2.show()"
      ],
      "metadata": {
        "id": "Mdc5319p66hy",
        "outputId": "b46ad997-10dd-4ba9-866d-c1b4bf5e9951",
        "colab": {
          "base_uri": "https://localhost:8080/"
        }
      },
      "execution_count": 40,
      "outputs": [
        {
          "output_type": "stream",
          "name": "stdout",
          "text": [
            "+---------+---+------+---------+-----------------+------------------+--------+--------+---------------+---------------+------+-----+------------+------------------+----------+\n",
            "|StudentID|age|Gender|Ethnicity|ParentalEducation|   StudyTimeWeekly|Absences|Tutoring|ParentalSupport|Extracurricular|Sports|Music|Volunteering|               GPA|GradeClass|\n",
            "+---------+---+------+---------+-----------------+------------------+--------+--------+---------------+---------------+------+-----+------------+------------------+----------+\n",
            "|     1001| 23|     1|        0|                2|19.833722807854713|       7|       1|              2|              0|     0|    1|           0| 2.929195591667681|       2.0|\n",
            "|     1002| 23|     0|        0|                1| 15.40875605584674|       0|       0|              1|              0|     0|    0|           0| 3.042914833436377|       1.0|\n",
            "|     1003| 23|     0|        2|                3|  4.21056976881226|      26|       0|              2|              0|     0|    0|           0|0.1126022544661815|       4.0|\n",
            "|     1004| 23|     1|        0|                3|10.028829473958215|      14|       0|              3|              1|     0|    0|           0|2.0542181397029484|       3.0|\n",
            "|     1005| 23|     1|        0|                2|4.6724952729713305|      17|       1|              3|              0|     0|    0|           0|1.2880611817953875|       4.0|\n",
            "|     1006| 23|     0|        0|                1| 8.191218545250186|       0|       0|              1|              1|     0|    0|           0|3.0841836144863937|       1.0|\n",
            "|     1007| 23|     0|        1|                1|15.601680474699295|      10|       0|              3|              0|     1|    0|           0| 2.748237414891583|       2.0|\n",
            "|     1008| 23|     1|        1|                4|15.424496305808074|      22|       1|              1|              1|     0|    0|           0| 1.360142712316461|       4.0|\n",
            "|     1009| 23|     0|        0|                0| 4.562007558047703|       1|       0|              2|              0|     1|    0|           1| 2.896819189513569|       2.0|\n",
            "|     1010| 23|     1|        0|                1|18.444466363097202|       0|       0|              3|              1|     0|    0|           0|3.5734742103297656|       0.0|\n",
            "|     1011| 23|     0|        0|                1|11.851363655296536|      11|       0|              1|              0|     0|    0|           0|2.1471716250185144|       3.0|\n",
            "|     1012| 23|     0|        0|                1|  7.59848581924029|      15|       0|              2|              0|     0|    0|           1|1.5595945190402773|       4.0|\n",
            "|     1013| 23|     0|        1|                1|10.038711615617213|      21|       0|              3|              1|     0|    0|           0| 1.520077814874808|       4.0|\n",
            "|     1014| 23|     0|        1|                2|12.101425068754875|      21|       0|              4|              0|     1|    0|           0|1.7515809583340785|       4.0|\n",
            "|     1015| 23|     1|        0|                1|11.197810636915708|       9|       1|              2|              0|     0|    0|           0| 2.396788117124796|       3.0|\n",
            "|     1016| 23|     0|        0|                2| 9.728100710723563|      17|       1|              0|              0|     1|    0|           0|1.3415207165346672|       4.0|\n",
            "|     1017| 23|     0|        3|                1|10.098656081788002|      14|       0|              2|              1|     1|    0|           0|2.2321752777159762|       3.0|\n",
            "|     1018| 23|     1|        0|                0|3.5282382085577235|      16|       1|              2|              0|     0|    0|           0|1.3844041756940335|       4.0|\n",
            "|     1019| 23|     0|        1|                3| 16.25465808609359|      29|       0|              2|              1|     0|    0|           1|0.4695533233798704|       4.0|\n",
            "|     1020| 23|     0|        0|                1|10.835206398820308|       9|       0|              2|              0|     0|    1|           0|2.3957840945306996|       3.0|\n",
            "+---------+---+------+---------+-----------------+------------------+--------+--------+---------------+---------------+------+-----+------------+------------------+----------+\n",
            "only showing top 20 rows\n",
            "\n"
          ]
        }
      ]
    },
    {
      "cell_type": "markdown",
      "source": [
        "If we want to change the age values to 23 whoes value = 17 then we use this."
      ],
      "metadata": {
        "id": "sT8Atyvr7Wpr"
      }
    },
    {
      "cell_type": "code",
      "source": [
        "from pyspark.sql.functions import when\n",
        "\n",
        "df2 = df.withColumn('Age', when(df.Age == 22, lit(27)).otherwise(df.Age))\n",
        "df2.show()"
      ],
      "metadata": {
        "id": "KaQcASbg7dbe",
        "outputId": "f436dd15-36fa-4194-8d3a-7562b89e0656",
        "colab": {
          "base_uri": "https://localhost:8080/"
        }
      },
      "execution_count": 43,
      "outputs": [
        {
          "output_type": "stream",
          "name": "stdout",
          "text": [
            "+---------+---+------+---------+-----------------+------------------+--------+--------+---------------+---------------+------+-----+------------+------------------+----------+\n",
            "|StudentID|Age|Gender|Ethnicity|ParentalEducation|   StudyTimeWeekly|Absences|Tutoring|ParentalSupport|Extracurricular|Sports|Music|Volunteering|               GPA|GradeClass|\n",
            "+---------+---+------+---------+-----------------+------------------+--------+--------+---------------+---------------+------+-----+------------+------------------+----------+\n",
            "|     1001| 27|     1|        0|                2|19.833722807854713|       7|       1|              2|              0|     0|    1|           0| 2.929195591667681|       2.0|\n",
            "|     1002| 23|     0|        0|                1| 15.40875605584674|       0|       0|              1|              0|     0|    0|           0| 3.042914833436377|       1.0|\n",
            "|     1003| 20|     0|        2|                3|  4.21056976881226|      26|       0|              2|              0|     0|    0|           0|0.1126022544661815|       4.0|\n",
            "|     1004| 27|     1|        0|                3|10.028829473958215|      14|       0|              3|              1|     0|    0|           0|2.0542181397029484|       3.0|\n",
            "|     1005| 27|     1|        0|                2|4.6724952729713305|      17|       1|              3|              0|     0|    0|           0|1.2880611817953875|       4.0|\n",
            "|     1006| 23|     0|        0|                1| 8.191218545250186|       0|       0|              1|              1|     0|    0|           0|3.0841836144863937|       1.0|\n",
            "|     1007| 20|     0|        1|                1|15.601680474699295|      10|       0|              3|              0|     1|    0|           0| 2.748237414891583|       2.0|\n",
            "|     1008| 20|     1|        1|                4|15.424496305808074|      22|       1|              1|              1|     0|    0|           0| 1.360142712316461|       4.0|\n",
            "|     1009| 27|     0|        0|                0| 4.562007558047703|       1|       0|              2|              0|     1|    0|           1| 2.896819189513569|       2.0|\n",
            "|     1010| 21|     1|        0|                1|18.444466363097202|       0|       0|              3|              1|     0|    0|           0|3.5734742103297656|       0.0|\n",
            "|     1011| 27|     0|        0|                1|11.851363655296536|      11|       0|              1|              0|     0|    0|           0|2.1471716250185144|       3.0|\n",
            "|     1012| 27|     0|        0|                1|  7.59848581924029|      15|       0|              2|              0|     0|    0|           1|1.5595945190402773|       4.0|\n",
            "|     1013| 27|     0|        1|                1|10.038711615617213|      21|       0|              3|              1|     0|    0|           0| 1.520077814874808|       4.0|\n",
            "|     1014| 27|     0|        1|                2|12.101425068754875|      21|       0|              4|              0|     1|    0|           0|1.7515809583340785|       4.0|\n",
            "|     1015| 23|     1|        0|                1|11.197810636915708|       9|       1|              2|              0|     0|    0|           0| 2.396788117124796|       3.0|\n",
            "|     1016| 20|     0|        0|                2| 9.728100710723563|      17|       1|              0|              0|     1|    0|           0|1.3415207165346672|       4.0|\n",
            "|     1017| 23|     0|        3|                1|10.098656081788002|      14|       0|              2|              1|     1|    0|           0|2.2321752777159762|       3.0|\n",
            "|     1018| 23|     1|        0|                0|3.5282382085577235|      16|       1|              2|              0|     0|    0|           0|1.3844041756940335|       4.0|\n",
            "|     1019| 23|     0|        1|                3| 16.25465808609359|      29|       0|              2|              1|     0|    0|           1|0.4695533233798704|       4.0|\n",
            "|     1020| 27|     0|        0|                1|10.835206398820308|       9|       0|              2|              0|     0|    1|           0|2.3957840945306996|       3.0|\n",
            "+---------+---+------+---------+-----------------+------------------+--------+--------+---------------+---------------+------+-----+------------+------------------+----------+\n",
            "only showing top 20 rows\n",
            "\n"
          ]
        }
      ]
    },
    {
      "cell_type": "markdown",
      "source": [
        "Renaming the column."
      ],
      "metadata": {
        "id": "6ZM9_Wmh734Y"
      }
    },
    {
      "cell_type": "code",
      "source": [
        "df3 = df.withColumnRenamed('gender','sex')\n",
        "df3.show()"
      ],
      "metadata": {
        "id": "qPNGR1L871Mz",
        "outputId": "1845821b-52db-4129-8a6c-9e6f642dd770",
        "colab": {
          "base_uri": "https://localhost:8080/"
        }
      },
      "execution_count": 44,
      "outputs": [
        {
          "output_type": "stream",
          "name": "stdout",
          "text": [
            "+---------+---+---+---------+-----------------+------------------+--------+--------+---------------+---------------+------+-----+------------+------------------+----------+\n",
            "|StudentID|Age|sex|Ethnicity|ParentalEducation|   StudyTimeWeekly|Absences|Tutoring|ParentalSupport|Extracurricular|Sports|Music|Volunteering|               GPA|GradeClass|\n",
            "+---------+---+---+---------+-----------------+------------------+--------+--------+---------------+---------------+------+-----+------------+------------------+----------+\n",
            "|     1001| 22|  1|        0|                2|19.833722807854713|       7|       1|              2|              0|     0|    1|           0| 2.929195591667681|       2.0|\n",
            "|     1002| 23|  0|        0|                1| 15.40875605584674|       0|       0|              1|              0|     0|    0|           0| 3.042914833436377|       1.0|\n",
            "|     1003| 20|  0|        2|                3|  4.21056976881226|      26|       0|              2|              0|     0|    0|           0|0.1126022544661815|       4.0|\n",
            "|     1004| 22|  1|        0|                3|10.028829473958215|      14|       0|              3|              1|     0|    0|           0|2.0542181397029484|       3.0|\n",
            "|     1005| 22|  1|        0|                2|4.6724952729713305|      17|       1|              3|              0|     0|    0|           0|1.2880611817953875|       4.0|\n",
            "|     1006| 23|  0|        0|                1| 8.191218545250186|       0|       0|              1|              1|     0|    0|           0|3.0841836144863937|       1.0|\n",
            "|     1007| 20|  0|        1|                1|15.601680474699295|      10|       0|              3|              0|     1|    0|           0| 2.748237414891583|       2.0|\n",
            "|     1008| 20|  1|        1|                4|15.424496305808074|      22|       1|              1|              1|     0|    0|           0| 1.360142712316461|       4.0|\n",
            "|     1009| 22|  0|        0|                0| 4.562007558047703|       1|       0|              2|              0|     1|    0|           1| 2.896819189513569|       2.0|\n",
            "|     1010| 21|  1|        0|                1|18.444466363097202|       0|       0|              3|              1|     0|    0|           0|3.5734742103297656|       0.0|\n",
            "|     1011| 22|  0|        0|                1|11.851363655296536|      11|       0|              1|              0|     0|    0|           0|2.1471716250185144|       3.0|\n",
            "|     1012| 22|  0|        0|                1|  7.59848581924029|      15|       0|              2|              0|     0|    0|           1|1.5595945190402773|       4.0|\n",
            "|     1013| 22|  0|        1|                1|10.038711615617213|      21|       0|              3|              1|     0|    0|           0| 1.520077814874808|       4.0|\n",
            "|     1014| 22|  0|        1|                2|12.101425068754875|      21|       0|              4|              0|     1|    0|           0|1.7515809583340785|       4.0|\n",
            "|     1015| 23|  1|        0|                1|11.197810636915708|       9|       1|              2|              0|     0|    0|           0| 2.396788117124796|       3.0|\n",
            "|     1016| 20|  0|        0|                2| 9.728100710723563|      17|       1|              0|              0|     1|    0|           0|1.3415207165346672|       4.0|\n",
            "|     1017| 23|  0|        3|                1|10.098656081788002|      14|       0|              2|              1|     1|    0|           0|2.2321752777159762|       3.0|\n",
            "|     1018| 23|  1|        0|                0|3.5282382085577235|      16|       1|              2|              0|     0|    0|           0|1.3844041756940335|       4.0|\n",
            "|     1019| 23|  0|        1|                3| 16.25465808609359|      29|       0|              2|              1|     0|    0|           1|0.4695533233798704|       4.0|\n",
            "|     1020| 22|  0|        0|                1|10.835206398820308|       9|       0|              2|              0|     0|    1|           0|2.3957840945306996|       3.0|\n",
            "+---------+---+---+---------+-----------------+------------------+--------+--------+---------------+---------------+------+-----+------------+------------------+----------+\n",
            "only showing top 20 rows\n",
            "\n"
          ]
        }
      ]
    },
    {
      "cell_type": "markdown",
      "source": [
        "If we don't want to manipulate df instead we can use **alias**\n",
        "\n",
        "It will not manipulate original df."
      ],
      "metadata": {
        "id": "KU2SoNw08ujJ"
      }
    },
    {
      "cell_type": "code",
      "source": [
        "df.select(col('Gender').alias('Sex')).show()"
      ],
      "metadata": {
        "id": "72NeyjGx8buw",
        "outputId": "4941b1c0-1868-490d-bff9-f2e2838fd71d",
        "colab": {
          "base_uri": "https://localhost:8080/"
        }
      },
      "execution_count": 45,
      "outputs": [
        {
          "output_type": "stream",
          "name": "stdout",
          "text": [
            "+---+\n",
            "|Sex|\n",
            "+---+\n",
            "|  1|\n",
            "|  0|\n",
            "|  0|\n",
            "|  1|\n",
            "|  1|\n",
            "|  0|\n",
            "|  0|\n",
            "|  1|\n",
            "|  0|\n",
            "|  1|\n",
            "|  0|\n",
            "|  0|\n",
            "|  0|\n",
            "|  0|\n",
            "|  1|\n",
            "|  0|\n",
            "|  0|\n",
            "|  1|\n",
            "|  0|\n",
            "|  0|\n",
            "+---+\n",
            "only showing top 20 rows\n",
            "\n"
          ]
        }
      ]
    },
    {
      "cell_type": "markdown",
      "source": [
        "This is the original df and it did not manipulate or change gender into sex."
      ],
      "metadata": {
        "id": "VksiFWHB84xQ"
      }
    },
    {
      "cell_type": "code",
      "source": [
        "df.show()"
      ],
      "metadata": {
        "id": "2KY4aPcj8qiD",
        "outputId": "54a521a4-6b7d-424c-bffc-19d0999b379e",
        "colab": {
          "base_uri": "https://localhost:8080/"
        }
      },
      "execution_count": 46,
      "outputs": [
        {
          "output_type": "stream",
          "name": "stdout",
          "text": [
            "+---------+---+------+---------+-----------------+------------------+--------+--------+---------------+---------------+------+-----+------------+------------------+----------+\n",
            "|StudentID|Age|Gender|Ethnicity|ParentalEducation|   StudyTimeWeekly|Absences|Tutoring|ParentalSupport|Extracurricular|Sports|Music|Volunteering|               GPA|GradeClass|\n",
            "+---------+---+------+---------+-----------------+------------------+--------+--------+---------------+---------------+------+-----+------------+------------------+----------+\n",
            "|     1001| 22|     1|        0|                2|19.833722807854713|       7|       1|              2|              0|     0|    1|           0| 2.929195591667681|       2.0|\n",
            "|     1002| 23|     0|        0|                1| 15.40875605584674|       0|       0|              1|              0|     0|    0|           0| 3.042914833436377|       1.0|\n",
            "|     1003| 20|     0|        2|                3|  4.21056976881226|      26|       0|              2|              0|     0|    0|           0|0.1126022544661815|       4.0|\n",
            "|     1004| 22|     1|        0|                3|10.028829473958215|      14|       0|              3|              1|     0|    0|           0|2.0542181397029484|       3.0|\n",
            "|     1005| 22|     1|        0|                2|4.6724952729713305|      17|       1|              3|              0|     0|    0|           0|1.2880611817953875|       4.0|\n",
            "|     1006| 23|     0|        0|                1| 8.191218545250186|       0|       0|              1|              1|     0|    0|           0|3.0841836144863937|       1.0|\n",
            "|     1007| 20|     0|        1|                1|15.601680474699295|      10|       0|              3|              0|     1|    0|           0| 2.748237414891583|       2.0|\n",
            "|     1008| 20|     1|        1|                4|15.424496305808074|      22|       1|              1|              1|     0|    0|           0| 1.360142712316461|       4.0|\n",
            "|     1009| 22|     0|        0|                0| 4.562007558047703|       1|       0|              2|              0|     1|    0|           1| 2.896819189513569|       2.0|\n",
            "|     1010| 21|     1|        0|                1|18.444466363097202|       0|       0|              3|              1|     0|    0|           0|3.5734742103297656|       0.0|\n",
            "|     1011| 22|     0|        0|                1|11.851363655296536|      11|       0|              1|              0|     0|    0|           0|2.1471716250185144|       3.0|\n",
            "|     1012| 22|     0|        0|                1|  7.59848581924029|      15|       0|              2|              0|     0|    0|           1|1.5595945190402773|       4.0|\n",
            "|     1013| 22|     0|        1|                1|10.038711615617213|      21|       0|              3|              1|     0|    0|           0| 1.520077814874808|       4.0|\n",
            "|     1014| 22|     0|        1|                2|12.101425068754875|      21|       0|              4|              0|     1|    0|           0|1.7515809583340785|       4.0|\n",
            "|     1015| 23|     1|        0|                1|11.197810636915708|       9|       1|              2|              0|     0|    0|           0| 2.396788117124796|       3.0|\n",
            "|     1016| 20|     0|        0|                2| 9.728100710723563|      17|       1|              0|              0|     1|    0|           0|1.3415207165346672|       4.0|\n",
            "|     1017| 23|     0|        3|                1|10.098656081788002|      14|       0|              2|              1|     1|    0|           0|2.2321752777159762|       3.0|\n",
            "|     1018| 23|     1|        0|                0|3.5282382085577235|      16|       1|              2|              0|     0|    0|           0|1.3844041756940335|       4.0|\n",
            "|     1019| 23|     0|        1|                3| 16.25465808609359|      29|       0|              2|              1|     0|    0|           1|0.4695533233798704|       4.0|\n",
            "|     1020| 22|     0|        0|                1|10.835206398820308|       9|       0|              2|              0|     0|    1|           0|2.3957840945306996|       3.0|\n",
            "+---------+---+------+---------+-----------------+------------------+--------+--------+---------------+---------------+------+-----+------------+------------------+----------+\n",
            "only showing top 20 rows\n",
            "\n"
          ]
        }
      ]
    },
    {
      "cell_type": "markdown",
      "source": [
        "**Filter:**\n",
        "It is used to get or select the df with certain condition."
      ],
      "metadata": {
        "id": "nypilIDM8_8G"
      }
    },
    {
      "cell_type": "code",
      "source": [
        "df.filter(df.Age == 23).show()"
      ],
      "metadata": {
        "id": "D3JpKqJH897I",
        "outputId": "d385aa7f-e967-44b8-ec90-e31a0d31cefa",
        "colab": {
          "base_uri": "https://localhost:8080/"
        }
      },
      "execution_count": 48,
      "outputs": [
        {
          "output_type": "stream",
          "name": "stdout",
          "text": [
            "+---------+---+------+---------+-----------------+------------------+--------+--------+---------------+---------------+------+-----+------------+-------------------+----------+\n",
            "|StudentID|Age|Gender|Ethnicity|ParentalEducation|   StudyTimeWeekly|Absences|Tutoring|ParentalSupport|Extracurricular|Sports|Music|Volunteering|                GPA|GradeClass|\n",
            "+---------+---+------+---------+-----------------+------------------+--------+--------+---------------+---------------+------+-----+------------+-------------------+----------+\n",
            "|     1002| 23|     0|        0|                1| 15.40875605584674|       0|       0|              1|              0|     0|    0|           0|  3.042914833436377|       1.0|\n",
            "|     1006| 23|     0|        0|                1| 8.191218545250186|       0|       0|              1|              1|     0|    0|           0| 3.0841836144863937|       1.0|\n",
            "|     1015| 23|     1|        0|                1|11.197810636915708|       9|       1|              2|              0|     0|    0|           0|  2.396788117124796|       3.0|\n",
            "|     1017| 23|     0|        3|                1|10.098656081788002|      14|       0|              2|              1|     1|    0|           0| 2.2321752777159762|       3.0|\n",
            "|     1018| 23|     1|        0|                0|3.5282382085577235|      16|       1|              2|              0|     0|    0|           0| 1.3844041756940335|       4.0|\n",
            "|     1019| 23|     0|        1|                3| 16.25465808609359|      29|       0|              2|              1|     0|    0|           1| 0.4695533233798704|       4.0|\n",
            "|     1024| 23|     1|        3|                4| 18.94613798473924|      20|       0|              2|              1|     0|    0|           0| 1.7701318767799732|       4.0|\n",
            "|     1025| 23|     1|        0|                1| 7.380354648223455|      15|       0|              2|              0|     0|    0|           0| 1.5051556220362858|       4.0|\n",
            "|     1029| 23|     0|        0|                0|18.679748370252344|      10|       0|              3|              1|     0|    0|           0|  2.854803928981318|       2.0|\n",
            "|     1030| 23|     0|        0|                2|  3.67159254710292|      20|       0|              3|              1|     0|    0|           0|  1.519441725815139|       4.0|\n",
            "|     1033| 23|     0|        0|                3| 7.663289371182516|      25|       0|              1|              0|     1|    0|           0|0.38461697285648777|       4.0|\n",
            "|     1037| 23|     0|        0|                1| 5.344197909721482|      26|       1|              1|              0|     0|    0|           0|0.21828485682103177|       4.0|\n",
            "|     1044| 23|     1|        0|                1|18.245091222023113|       9|       0|              2|              0|     1|    0|           0| 2.8888916692724433|       2.0|\n",
            "|     1045| 23|     1|        0|                1|18.921512361376628|       1|       1|              3|              1|     1|    0|           0|                4.0|       0.0|\n",
            "|     1046| 23|     0|        0|                2| 4.894311940474019|       7|       0|              4|              0|     0|    1|           0|  2.515300272256249|       2.0|\n",
            "|     1047| 23|     0|        1|                2|2.6313061327870924|       5|       0|              1|              1|     0|    0|           0| 2.5637654300150947|       2.0|\n",
            "|     1054| 23|     0|        0|                2|  8.46716054701572|      13|       0|              1|              0|     1|    0|           0| 1.6643106896610833|       4.0|\n",
            "|     1056| 23|     0|        0|                1| 8.847874814963872|      25|       0|              2|              0|     1|    0|           0| 0.8027695392342074|       4.0|\n",
            "|     1057| 23|     1|        0|                4|0.9213833935093518|      20|       0|              2|              0|     1|    1|           0| 1.3423871779577345|       4.0|\n",
            "|     1067| 23|     0|        0|                4|2.3951993286439444|      23|       0|              3|              0|     1|    0|           0| 1.0396238791477144|       4.0|\n",
            "+---------+---+------+---------+-----------------+------------------+--------+--------+---------------+---------------+------+-----+------------+-------------------+----------+\n",
            "only showing top 20 rows\n",
            "\n"
          ]
        }
      ]
    },
    {
      "cell_type": "markdown",
      "source": [
        "For multiple rows.\n",
        "\n",
        "we can use:\n",
        "\n",
        "-> & and operator\n",
        "\n",
        "-> | or operator\n",
        "\n",
        "-> == equal to operator. and so on.."
      ],
      "metadata": {
        "id": "GX3DK7wT9m9l"
      }
    },
    {
      "cell_type": "code",
      "source": [
        "df.filter((df.Age == 23) & (df.Gender == 0)).show()"
      ],
      "metadata": {
        "id": "eSTfOxS-9UXz",
        "outputId": "8f31c4c4-b024-4b82-e8d3-3d74fa5747f2",
        "colab": {
          "base_uri": "https://localhost:8080/"
        }
      },
      "execution_count": 49,
      "outputs": [
        {
          "output_type": "stream",
          "name": "stdout",
          "text": [
            "+---------+---+------+---------+-----------------+-------------------+--------+--------+---------------+---------------+------+-----+------------+-------------------+----------+\n",
            "|StudentID|Age|Gender|Ethnicity|ParentalEducation|    StudyTimeWeekly|Absences|Tutoring|ParentalSupport|Extracurricular|Sports|Music|Volunteering|                GPA|GradeClass|\n",
            "+---------+---+------+---------+-----------------+-------------------+--------+--------+---------------+---------------+------+-----+------------+-------------------+----------+\n",
            "|     1002| 23|     0|        0|                1|  15.40875605584674|       0|       0|              1|              0|     0|    0|           0|  3.042914833436377|       1.0|\n",
            "|     1006| 23|     0|        0|                1|  8.191218545250186|       0|       0|              1|              1|     0|    0|           0| 3.0841836144863937|       1.0|\n",
            "|     1017| 23|     0|        3|                1| 10.098656081788002|      14|       0|              2|              1|     1|    0|           0| 2.2321752777159762|       3.0|\n",
            "|     1019| 23|     0|        1|                3|  16.25465808609359|      29|       0|              2|              1|     0|    0|           1| 0.4695533233798704|       4.0|\n",
            "|     1029| 23|     0|        0|                0| 18.679748370252344|      10|       0|              3|              1|     0|    0|           0|  2.854803928981318|       2.0|\n",
            "|     1030| 23|     0|        0|                2|   3.67159254710292|      20|       0|              3|              1|     0|    0|           0|  1.519441725815139|       4.0|\n",
            "|     1033| 23|     0|        0|                3|  7.663289371182516|      25|       0|              1|              0|     1|    0|           0|0.38461697285648777|       4.0|\n",
            "|     1037| 23|     0|        0|                1|  5.344197909721482|      26|       1|              1|              0|     0|    0|           0|0.21828485682103177|       4.0|\n",
            "|     1046| 23|     0|        0|                2|  4.894311940474019|       7|       0|              4|              0|     0|    1|           0|  2.515300272256249|       2.0|\n",
            "|     1047| 23|     0|        1|                2| 2.6313061327870924|       5|       0|              1|              1|     0|    0|           0| 2.5637654300150947|       2.0|\n",
            "|     1054| 23|     0|        0|                2|   8.46716054701572|      13|       0|              1|              0|     1|    0|           0| 1.6643106896610833|       4.0|\n",
            "|     1056| 23|     0|        0|                1|  8.847874814963872|      25|       0|              2|              0|     1|    0|           0| 0.8027695392342074|       4.0|\n",
            "|     1067| 23|     0|        0|                4| 2.3951993286439444|      23|       0|              3|              0|     1|    0|           0| 1.0396238791477144|       4.0|\n",
            "|     1077| 23|     0|        0|                2|  5.305701781721048|       3|       0|              3|              0|     0|    0|           0| 2.7344014944199917|       2.0|\n",
            "|     1084| 23|     0|        2|                1|   8.88959955955582|      16|       0|              1|              0|     1|    0|           0| 1.4633780357856976|       4.0|\n",
            "|     1089| 23|     0|        0|                1| 16.117823383937086|      22|       0|              0|              1|     0|    1|           0| 1.0586220144439875|       4.0|\n",
            "|     1091| 23|     0|        3|                1|  3.829792298162389|      26|       0|              1|              0|     0|    0|           1|0.19474328074551517|       4.0|\n",
            "|     1098| 23|     0|        0|                2|0.46865910734776417|       5|       0|              2|              0|     1|    0|           0| 2.5552328599380942|       2.0|\n",
            "|     1111| 23|     0|        1|                1|  10.89763372058787|       4|       1|              3|              0|     0|    0|           0| 3.2208069781948727|       1.0|\n",
            "|     1129| 23|     0|        1|                2| 0.8117142426939017|      12|       1|              1|              1|     1|    0|           0| 2.0165967745176614|       3.0|\n",
            "+---------+---+------+---------+-----------------+-------------------+--------+--------+---------------+---------------+------+-----+------------+-------------------+----------+\n",
            "only showing top 20 rows\n",
            "\n"
          ]
        }
      ]
    },
    {
      "cell_type": "code",
      "source": [
        "df.printSchema()"
      ],
      "metadata": {
        "id": "kUIadXh99poT",
        "outputId": "0bee0d3f-85e6-407b-dd13-0a23d2e708d5",
        "colab": {
          "base_uri": "https://localhost:8080/"
        }
      },
      "execution_count": 50,
      "outputs": [
        {
          "output_type": "stream",
          "name": "stdout",
          "text": [
            "root\n",
            " |-- StudentID: integer (nullable = true)\n",
            " |-- Age: integer (nullable = true)\n",
            " |-- Gender: integer (nullable = true)\n",
            " |-- Ethnicity: integer (nullable = true)\n",
            " |-- ParentalEducation: integer (nullable = true)\n",
            " |-- StudyTimeWeekly: double (nullable = true)\n",
            " |-- Absences: integer (nullable = true)\n",
            " |-- Tutoring: integer (nullable = true)\n",
            " |-- ParentalSupport: integer (nullable = true)\n",
            " |-- Extracurricular: integer (nullable = true)\n",
            " |-- Sports: integer (nullable = true)\n",
            " |-- Music: integer (nullable = true)\n",
            " |-- Volunteering: integer (nullable = true)\n",
            " |-- GPA: double (nullable = true)\n",
            " |-- GradeClass: double (nullable = true)\n",
            "\n"
          ]
        }
      ]
    },
    {
      "cell_type": "markdown",
      "source": [
        "We can also use like operator to check the pattern in strings."
      ],
      "metadata": {
        "id": "bCYX-pTaAry8"
      }
    },
    {
      "cell_type": "code",
      "source": [
        "# it will show those values which has se in their value in name column asame in sql.\n",
        "df.filter(df.name.like(\"%se%\")).show()"
      ],
      "metadata": {
        "id": "bpBnEW8jBDZF"
      },
      "execution_count": null,
      "outputs": []
    },
    {
      "cell_type": "code",
      "source": [
        "# it will show those values which has se in their value in name column.\n",
        "df.filter(df.name,contains(\"se\")).show()"
      ],
      "metadata": {
        "id": "HHTA3USAAw0g"
      },
      "execution_count": null,
      "outputs": []
    },
    {
      "cell_type": "markdown",
      "source": [
        "-> Count = count the no.of rows.\n",
        "\n",
        "-> Distinct = to get all different values.\n",
        "\n",
        "-> drop duplicate = it will drop duplicate values."
      ],
      "metadata": {
        "id": "4CMhLGZRBUC7"
      }
    },
    {
      "cell_type": "code",
      "source": [
        "df.filter(df.Age == '23').count()"
      ],
      "metadata": {
        "id": "JoOetTTaBkEb",
        "outputId": "22abd09e-b7cd-4353-8d6c-d4a101349e19",
        "colab": {
          "base_uri": "https://localhost:8080/"
        }
      },
      "execution_count": 51,
      "outputs": [
        {
          "output_type": "execute_result",
          "data": {
            "text/plain": [
              "582"
            ]
          },
          "metadata": {},
          "execution_count": 51
        }
      ]
    },
    {
      "cell_type": "code",
      "source": [
        "# df.select(df.Age).distinct().count().show()\n",
        "distinct_count = df.select(df.Age).distinct().count()\n",
        "print(distinct_count)"
      ],
      "metadata": {
        "id": "tOB8jhnKBqAG",
        "outputId": "9f11dd33-1159-4f0f-beae-b7abbb721ec9",
        "colab": {
          "base_uri": "https://localhost:8080/"
        }
      },
      "execution_count": 60,
      "outputs": [
        {
          "output_type": "stream",
          "name": "stdout",
          "text": [
            "4\n"
          ]
        }
      ]
    },
    {
      "cell_type": "markdown",
      "source": [
        "Here we cannot use df.column_name format here in this drop duplicate."
      ],
      "metadata": {
        "id": "GsvMDXpnDk_j"
      }
    },
    {
      "cell_type": "code",
      "source": [
        "df4 = df.dropDuplicates([\"age\"]).show()"
      ],
      "metadata": {
        "id": "SpibdimVCejP",
        "outputId": "b285cfa9-cacb-42ab-b806-35aad0960014",
        "colab": {
          "base_uri": "https://localhost:8080/"
        }
      },
      "execution_count": 61,
      "outputs": [
        {
          "output_type": "stream",
          "name": "stdout",
          "text": [
            "+---------+---+------+---------+-----------------+------------------+--------+--------+---------------+---------------+------+-----+------------+------------------+----------+\n",
            "|StudentID|Age|Gender|Ethnicity|ParentalEducation|   StudyTimeWeekly|Absences|Tutoring|ParentalSupport|Extracurricular|Sports|Music|Volunteering|               GPA|GradeClass|\n",
            "+---------+---+------+---------+-----------------+------------------+--------+--------+---------------+---------------+------+-----+------------+------------------+----------+\n",
            "|     1001| 22|     1|        0|                2|19.833722807854713|       7|       1|              2|              0|     0|    1|           0| 2.929195591667681|       2.0|\n",
            "|     1003| 20|     0|        2|                3|  4.21056976881226|      26|       0|              2|              0|     0|    0|           0|0.1126022544661815|       4.0|\n",
            "|     1002| 23|     0|        0|                1| 15.40875605584674|       0|       0|              1|              0|     0|    0|           0| 3.042914833436377|       1.0|\n",
            "|     1010| 21|     1|        0|                1|18.444466363097202|       0|       0|              3|              1|     0|    0|           0|3.5734742103297656|       0.0|\n",
            "+---------+---+------+---------+-----------------+------------------+--------+--------+---------------+---------------+------+-----+------------+------------------+----------+\n",
            "\n"
          ]
        }
      ]
    },
    {
      "cell_type": "markdown",
      "source": [
        "**sorting:**"
      ],
      "metadata": {
        "id": "lCZpTwgoEA6f"
      }
    },
    {
      "cell_type": "code",
      "source": [
        "df.sort('age').show()"
      ],
      "metadata": {
        "id": "tyaiYhQYD8jn",
        "outputId": "84046307-2a33-4b8e-e546-b67067373d62",
        "colab": {
          "base_uri": "https://localhost:8080/"
        }
      },
      "execution_count": 62,
      "outputs": [
        {
          "output_type": "stream",
          "name": "stdout",
          "text": [
            "+---------+---+------+---------+-----------------+------------------+--------+--------+---------------+---------------+------+-----+------------+--------------------+----------+\n",
            "|StudentID|Age|Gender|Ethnicity|ParentalEducation|   StudyTimeWeekly|Absences|Tutoring|ParentalSupport|Extracurricular|Sports|Music|Volunteering|                 GPA|GradeClass|\n",
            "+---------+---+------+---------+-----------------+------------------+--------+--------+---------------+---------------+------+-----+------------+--------------------+----------+\n",
            "|     1058| 20|     0|        0|                4| 10.87755842322235|      29|       0|              3|              1|     0|    0|           0|  0.2865712882866222|       4.0|\n",
            "|     1138| 20|     0|        3|                2|7.2516642518935415|      18|       0|              0|              1|     0|    1|           1|  1.1829875004980481|       4.0|\n",
            "|     1060| 20|     1|        3|                0| 9.468698671880976|      23|       0|              3|              0|     1|    0|           0|  0.9290125546259369|       4.0|\n",
            "|     1003| 20|     0|        2|                3|  4.21056976881226|      26|       0|              2|              0|     0|    0|           0|  0.1126022544661815|       4.0|\n",
            "|     1063| 20|     0|        1|                3|13.238031529438572|      11|       0|              3|              0|     1|    0|           0|   2.234238472600233|       3.0|\n",
            "|     1008| 20|     1|        1|                4|15.424496305808074|      22|       1|              1|              1|     0|    0|           0|   1.360142712316461|       4.0|\n",
            "|     1064| 20|     0|        0|                1| 8.680977369563614|       8|       0|              2|              0|     1|    0|           0|  2.3858282190764624|       3.0|\n",
            "|     1031| 20|     0|        2|                2| 5.055317199023282|      12|       1|              0|              0|     1|    0|           0|   1.727120309522409|       4.0|\n",
            "|     1068| 20|     1|        0|                1|10.638659551055829|      28|       0|              0|              0|     1|    0|           0|0.027818624732467906|       4.0|\n",
            "|     1036| 20|     0|        3|                1| 3.415365200066738|      23|       0|              1|              0|     0|    0|           0|  0.2614722600507521|       4.0|\n",
            "|     1073| 20|     0|        1|                1| 3.258053089547881|       8|       0|              2|              1|     1|    0|           0|   2.556801662833417|       2.0|\n",
            "|     1039| 20|     1|        1|                1| 2.949078348522698|       3|       1|              1|              1|     1|    0|           0|  3.0189058584279675|       1.0|\n",
            "|     1075| 20|     1|        0|                3|17.067914670738833|      14|       0|              3|              1|     0|    1|           0|   2.200682946560561|       3.0|\n",
            "|     1120| 20|     0|        2|                1| 19.56530927058948|       3|       0|              2|              1|     0|    1|           1|   3.619460869693516|       0.0|\n",
            "|     1137| 20|     1|        0|                4| 6.065620521308905|       9|       0|              3|              0|     1|    0|           0|   2.204860580997317|       3.0|\n",
            "|     1122| 20|     1|        1|                1|  9.74935670927948|       7|       1|              1|              0|     1|    1|           0|  2.9744060149110436|       2.0|\n",
            "|     1007| 20|     0|        1|                1|15.601680474699295|      10|       0|              3|              0|     1|    0|           0|   2.748237414891583|       2.0|\n",
            "|     1125| 20|     0|        0|                2|2.5807281777884983|       1|       1|              2|              1|     0|    1|           0|  3.4982573417733205|       1.0|\n",
            "|     1032| 20|     0|        0|                3| 8.132730537699409|      17|       0|              4|              0|     0|    0|           1|  1.8475354711387906|       4.0|\n",
            "|     1128| 20|     0|        2|                2| 17.75503049343376|      10|       1|              1|              0|     1|    0|           0|  2.8199217452931866|       2.0|\n",
            "+---------+---+------+---------+-----------------+------------------+--------+--------+---------------+---------------+------+-----+------------+--------------------+----------+\n",
            "only showing top 20 rows\n",
            "\n"
          ]
        }
      ]
    },
    {
      "cell_type": "markdown",
      "source": [
        "We can use multiple columns to sort."
      ],
      "metadata": {
        "id": "J7pucOBBEGaE"
      }
    },
    {
      "cell_type": "code",
      "source": [
        "df.sort(['age','Ethnicity']).show()"
      ],
      "metadata": {
        "id": "NFeulaJhEF6v",
        "outputId": "d6eaa241-0421-428b-bcda-387f9f5b17f6",
        "colab": {
          "base_uri": "https://localhost:8080/"
        }
      },
      "execution_count": 63,
      "outputs": [
        {
          "output_type": "stream",
          "name": "stdout",
          "text": [
            "+---------+---+------+---------+-----------------+------------------+--------+--------+---------------+---------------+------+-----+------------+-------------------+----------+\n",
            "|StudentID|Age|Gender|Ethnicity|ParentalEducation|   StudyTimeWeekly|Absences|Tutoring|ParentalSupport|Extracurricular|Sports|Music|Volunteering|                GPA|GradeClass|\n",
            "+---------+---+------+---------+-----------------+------------------+--------+--------+---------------+---------------+------+-----+------------+-------------------+----------+\n",
            "|     1179| 20|     1|        0|                1| 3.368811022638305|       2|       0|              2|              1|     0|    0|           0|  2.553439811443938|       2.0|\n",
            "|     1322| 20|     1|        0|                1| 17.00635416315198|      11|       0|              4|              1|     0|    0|           0|  2.627693905554347|       2.0|\n",
            "|     1181| 20|     0|        0|                2|19.698582168829834|       5|       1|              3|              0|     0|    0|           0| 3.1860603780389143|       1.0|\n",
            "|     1172| 20|     0|        0|                2| 9.415699940254145|      25|       0|              2|              1|     0|    0|           1|  0.818786616073051|       4.0|\n",
            "|     1206| 20|     0|        0|                2|3.4957343009031594|      12|       1|              4|              0|     0|    0|           0| 2.1923631978552875|       3.0|\n",
            "|     1032| 20|     0|        0|                3| 8.132730537699409|      17|       0|              4|              0|     0|    0|           1| 1.8475354711387906|       4.0|\n",
            "|     1210| 20|     0|        0|                2| 6.508365613652156|      20|       1|              2|              1|     0|    1|           1| 1.6560601255004677|       4.0|\n",
            "|     1064| 20|     0|        0|                1| 8.680977369563614|       8|       0|              2|              0|     1|    0|           0| 2.3858282190764624|       3.0|\n",
            "|     1213| 20|     0|        0|                1|5.7251807076636645|       1|       0|              3|              1|     0|    0|           0|   3.25829468502287|       1.0|\n",
            "|     1075| 20|     1|        0|                3|17.067914670738833|      14|       0|              3|              1|     0|    1|           0|  2.200682946560561|       3.0|\n",
            "|     1216| 20|     0|        0|                2|0.4939459537222257|      29|       1|              1|              1|     0|    0|           0| 0.1259330746249498|       4.0|\n",
            "|     1166| 20|     0|        0|                3| 7.925545249834012|      13|       0|              2|              0|     1|    0|           0| 1.6244868202221543|       4.0|\n",
            "|     1218| 20|     1|        0|                2|10.731563800572406|       6|       0|              0|              1|     0|    1|           0| 2.5914267032293132|       2.0|\n",
            "|     1132| 20|     1|        0|                3| 5.951414328816309|       2|       0|              3|              0|     0|    0|           0|  3.030439088696523|       1.0|\n",
            "|     1249| 20|     0|        0|                2| 9.383549921855433|      25|       0|              2|              0|     1|    0|           0| 1.1941661337644758|       4.0|\n",
            "|     1137| 20|     1|        0|                4| 6.065620521308905|       9|       0|              3|              0|     1|    0|           0|  2.204860580997317|       3.0|\n",
            "|     1254| 20|     0|        0|                4| 13.31568802937742|       3|       0|              3|              0|     0|    0|           1|  3.119393913150377|       1.0|\n",
            "|     1153| 20|     1|        0|                3|3.7827739265348015|      22|       0|              4|              1|     0|    0|           1|   1.11991126295732|       4.0|\n",
            "|     1261| 20|     1|        0|                2| 4.214133301498125|       6|       0|              1|              1|     0|    0|           0| 2.3020320443414053|       3.0|\n",
            "|     1159| 20|     1|        0|                3| 7.046177684183565|      28|       0|              2|              0|     0|    0|           0|0.24762676508656342|       4.0|\n",
            "+---------+---+------+---------+-----------------+------------------+--------+--------+---------------+---------------+------+-----+------------+-------------------+----------+\n",
            "only showing top 20 rows\n",
            "\n"
          ]
        }
      ]
    },
    {
      "cell_type": "markdown",
      "source": [
        "**Order By:**"
      ],
      "metadata": {
        "id": "t1sxMq3XESXN"
      }
    },
    {
      "cell_type": "code",
      "source": [
        "df.orderBy(df.Age).show()"
      ],
      "metadata": {
        "id": "3MIRnVS-ERU0",
        "outputId": "ab0f47b1-c9ee-4729-cf90-25274f695398",
        "colab": {
          "base_uri": "https://localhost:8080/"
        }
      },
      "execution_count": 64,
      "outputs": [
        {
          "output_type": "stream",
          "name": "stdout",
          "text": [
            "+---------+---+------+---------+-----------------+------------------+--------+--------+---------------+---------------+------+-----+------------+--------------------+----------+\n",
            "|StudentID|Age|Gender|Ethnicity|ParentalEducation|   StudyTimeWeekly|Absences|Tutoring|ParentalSupport|Extracurricular|Sports|Music|Volunteering|                 GPA|GradeClass|\n",
            "+---------+---+------+---------+-----------------+------------------+--------+--------+---------------+---------------+------+-----+------------+--------------------+----------+\n",
            "|     1058| 20|     0|        0|                4| 10.87755842322235|      29|       0|              3|              1|     0|    0|           0|  0.2865712882866222|       4.0|\n",
            "|     1138| 20|     0|        3|                2|7.2516642518935415|      18|       0|              0|              1|     0|    1|           1|  1.1829875004980481|       4.0|\n",
            "|     1060| 20|     1|        3|                0| 9.468698671880976|      23|       0|              3|              0|     1|    0|           0|  0.9290125546259369|       4.0|\n",
            "|     1003| 20|     0|        2|                3|  4.21056976881226|      26|       0|              2|              0|     0|    0|           0|  0.1126022544661815|       4.0|\n",
            "|     1063| 20|     0|        1|                3|13.238031529438572|      11|       0|              3|              0|     1|    0|           0|   2.234238472600233|       3.0|\n",
            "|     1008| 20|     1|        1|                4|15.424496305808074|      22|       1|              1|              1|     0|    0|           0|   1.360142712316461|       4.0|\n",
            "|     1064| 20|     0|        0|                1| 8.680977369563614|       8|       0|              2|              0|     1|    0|           0|  2.3858282190764624|       3.0|\n",
            "|     1031| 20|     0|        2|                2| 5.055317199023282|      12|       1|              0|              0|     1|    0|           0|   1.727120309522409|       4.0|\n",
            "|     1068| 20|     1|        0|                1|10.638659551055829|      28|       0|              0|              0|     1|    0|           0|0.027818624732467906|       4.0|\n",
            "|     1036| 20|     0|        3|                1| 3.415365200066738|      23|       0|              1|              0|     0|    0|           0|  0.2614722600507521|       4.0|\n",
            "|     1073| 20|     0|        1|                1| 3.258053089547881|       8|       0|              2|              1|     1|    0|           0|   2.556801662833417|       2.0|\n",
            "|     1039| 20|     1|        1|                1| 2.949078348522698|       3|       1|              1|              1|     1|    0|           0|  3.0189058584279675|       1.0|\n",
            "|     1075| 20|     1|        0|                3|17.067914670738833|      14|       0|              3|              1|     0|    1|           0|   2.200682946560561|       3.0|\n",
            "|     1120| 20|     0|        2|                1| 19.56530927058948|       3|       0|              2|              1|     0|    1|           1|   3.619460869693516|       0.0|\n",
            "|     1137| 20|     1|        0|                4| 6.065620521308905|       9|       0|              3|              0|     1|    0|           0|   2.204860580997317|       3.0|\n",
            "|     1122| 20|     1|        1|                1|  9.74935670927948|       7|       1|              1|              0|     1|    1|           0|  2.9744060149110436|       2.0|\n",
            "|     1007| 20|     0|        1|                1|15.601680474699295|      10|       0|              3|              0|     1|    0|           0|   2.748237414891583|       2.0|\n",
            "|     1125| 20|     0|        0|                2|2.5807281777884983|       1|       1|              2|              1|     0|    1|           0|  3.4982573417733205|       1.0|\n",
            "|     1032| 20|     0|        0|                3| 8.132730537699409|      17|       0|              4|              0|     0|    0|           1|  1.8475354711387906|       4.0|\n",
            "|     1128| 20|     0|        2|                2| 17.75503049343376|      10|       1|              1|              0|     1|    0|           0|  2.8199217452931866|       2.0|\n",
            "+---------+---+------+---------+-----------------+------------------+--------+--------+---------------+---------------+------+-----+------------+--------------------+----------+\n",
            "only showing top 20 rows\n",
            "\n"
          ]
        }
      ]
    },
    {
      "cell_type": "markdown",
      "source": [
        "Ordering in Ascending order or decending order.\n",
        "\n",
        "First we need to omport asc and desc."
      ],
      "metadata": {
        "id": "MCbaiEjZEaSh"
      }
    },
    {
      "cell_type": "code",
      "source": [
        "from pyspark.sql.functions import asc\n",
        "from pyspark.sql.functions import desc"
      ],
      "metadata": {
        "id": "2S7zlZZ1FWMj"
      },
      "execution_count": 69,
      "outputs": []
    },
    {
      "cell_type": "code",
      "source": [
        "df.orderBy(asc(df.Age)).show()"
      ],
      "metadata": {
        "id": "43KRoYXgEfoj",
        "outputId": "57ce2600-c2b9-4db2-ef26-c429202681b4",
        "colab": {
          "base_uri": "https://localhost:8080/"
        }
      },
      "execution_count": 72,
      "outputs": [
        {
          "output_type": "stream",
          "name": "stdout",
          "text": [
            "+---------+---+------+---------+-----------------+------------------+--------+--------+---------------+---------------+------+-----+------------+--------------------+----------+\n",
            "|StudentID|Age|Gender|Ethnicity|ParentalEducation|   StudyTimeWeekly|Absences|Tutoring|ParentalSupport|Extracurricular|Sports|Music|Volunteering|                 GPA|GradeClass|\n",
            "+---------+---+------+---------+-----------------+------------------+--------+--------+---------------+---------------+------+-----+------------+--------------------+----------+\n",
            "|     1058| 20|     0|        0|                4| 10.87755842322235|      29|       0|              3|              1|     0|    0|           0|  0.2865712882866222|       4.0|\n",
            "|     1138| 20|     0|        3|                2|7.2516642518935415|      18|       0|              0|              1|     0|    1|           1|  1.1829875004980481|       4.0|\n",
            "|     1060| 20|     1|        3|                0| 9.468698671880976|      23|       0|              3|              0|     1|    0|           0|  0.9290125546259369|       4.0|\n",
            "|     1003| 20|     0|        2|                3|  4.21056976881226|      26|       0|              2|              0|     0|    0|           0|  0.1126022544661815|       4.0|\n",
            "|     1063| 20|     0|        1|                3|13.238031529438572|      11|       0|              3|              0|     1|    0|           0|   2.234238472600233|       3.0|\n",
            "|     1008| 20|     1|        1|                4|15.424496305808074|      22|       1|              1|              1|     0|    0|           0|   1.360142712316461|       4.0|\n",
            "|     1064| 20|     0|        0|                1| 8.680977369563614|       8|       0|              2|              0|     1|    0|           0|  2.3858282190764624|       3.0|\n",
            "|     1031| 20|     0|        2|                2| 5.055317199023282|      12|       1|              0|              0|     1|    0|           0|   1.727120309522409|       4.0|\n",
            "|     1068| 20|     1|        0|                1|10.638659551055829|      28|       0|              0|              0|     1|    0|           0|0.027818624732467906|       4.0|\n",
            "|     1036| 20|     0|        3|                1| 3.415365200066738|      23|       0|              1|              0|     0|    0|           0|  0.2614722600507521|       4.0|\n",
            "|     1073| 20|     0|        1|                1| 3.258053089547881|       8|       0|              2|              1|     1|    0|           0|   2.556801662833417|       2.0|\n",
            "|     1039| 20|     1|        1|                1| 2.949078348522698|       3|       1|              1|              1|     1|    0|           0|  3.0189058584279675|       1.0|\n",
            "|     1075| 20|     1|        0|                3|17.067914670738833|      14|       0|              3|              1|     0|    1|           0|   2.200682946560561|       3.0|\n",
            "|     1120| 20|     0|        2|                1| 19.56530927058948|       3|       0|              2|              1|     0|    1|           1|   3.619460869693516|       0.0|\n",
            "|     1137| 20|     1|        0|                4| 6.065620521308905|       9|       0|              3|              0|     1|    0|           0|   2.204860580997317|       3.0|\n",
            "|     1122| 20|     1|        1|                1|  9.74935670927948|       7|       1|              1|              0|     1|    1|           0|  2.9744060149110436|       2.0|\n",
            "|     1007| 20|     0|        1|                1|15.601680474699295|      10|       0|              3|              0|     1|    0|           0|   2.748237414891583|       2.0|\n",
            "|     1125| 20|     0|        0|                2|2.5807281777884983|       1|       1|              2|              1|     0|    1|           0|  3.4982573417733205|       1.0|\n",
            "|     1032| 20|     0|        0|                3| 8.132730537699409|      17|       0|              4|              0|     0|    0|           1|  1.8475354711387906|       4.0|\n",
            "|     1128| 20|     0|        2|                2| 17.75503049343376|      10|       1|              1|              0|     1|    0|           0|  2.8199217452931866|       2.0|\n",
            "+---------+---+------+---------+-----------------+------------------+--------+--------+---------------+---------------+------+-----+------------+--------------------+----------+\n",
            "only showing top 20 rows\n",
            "\n"
          ]
        }
      ]
    },
    {
      "cell_type": "code",
      "source": [
        "df.orderBy(desc(df.Age)).show()"
      ],
      "metadata": {
        "id": "q7o-xnaKElc_",
        "outputId": "f67baf33-1ff9-4231-a605-2abe908759ae",
        "colab": {
          "base_uri": "https://localhost:8080/"
        }
      },
      "execution_count": 73,
      "outputs": [
        {
          "output_type": "stream",
          "name": "stdout",
          "text": [
            "+---------+---+------+---------+-----------------+------------------+--------+--------+---------------+---------------+------+-----+------------+-------------------+----------+\n",
            "|StudentID|Age|Gender|Ethnicity|ParentalEducation|   StudyTimeWeekly|Absences|Tutoring|ParentalSupport|Extracurricular|Sports|Music|Volunteering|                GPA|GradeClass|\n",
            "+---------+---+------+---------+-----------------+------------------+--------+--------+---------------+---------------+------+-----+------------+-------------------+----------+\n",
            "|     1054| 23|     0|        0|                2|  8.46716054701572|      13|       0|              1|              0|     1|    0|           0| 1.6643106896610833|       4.0|\n",
            "|     1121| 23|     1|        0|                3| 3.170404680548189|      12|       1|              1|              1|     1|    0|           0| 2.1749027962098797|       3.0|\n",
            "|     1056| 23|     0|        0|                1| 8.847874814963872|      25|       0|              2|              0|     1|    0|           0| 0.8027695392342074|       4.0|\n",
            "|     1006| 23|     0|        0|                1| 8.191218545250186|       0|       0|              1|              1|     0|    0|           0| 3.0841836144863937|       1.0|\n",
            "|     1057| 23|     1|        0|                4|0.9213833935093518|      20|       0|              2|              0|     1|    1|           0| 1.3423871779577345|       4.0|\n",
            "|     1017| 23|     0|        3|                1|10.098656081788002|      14|       0|              2|              1|     1|    0|           0| 2.2321752777159762|       3.0|\n",
            "|     1067| 23|     0|        0|                4|2.3951993286439444|      23|       0|              3|              0|     1|    0|           0| 1.0396238791477144|       4.0|\n",
            "|     1019| 23|     0|        1|                3| 16.25465808609359|      29|       0|              2|              1|     0|    0|           1| 0.4695533233798704|       4.0|\n",
            "|     1069| 23|     1|        3|                2| 5.690239194848883|      21|       1|              3|              0|     0|    1|           0| 1.3299645378768772|       4.0|\n",
            "|     1024| 23|     1|        3|                4| 18.94613798473924|      20|       0|              2|              1|     0|    0|           0| 1.7701318767799732|       4.0|\n",
            "|     1077| 23|     0|        0|                2| 5.305701781721048|       3|       0|              3|              0|     0|    0|           0| 2.7344014944199917|       2.0|\n",
            "|     1029| 23|     0|        0|                0|18.679748370252344|      10|       0|              3|              1|     0|    0|           0|  2.854803928981318|       2.0|\n",
            "|     1078| 23|     1|        1|                3|18.079061303797786|      18|       1|              1|              1|     1|    0|           0| 2.1317372971872284|       3.0|\n",
            "|     1033| 23|     0|        0|                3| 7.663289371182516|      25|       0|              1|              0|     1|    0|           0|0.38461697285648777|       4.0|\n",
            "|     1080| 23|     1|        3|                1|11.046760269110056|      25|       0|              3|              0|     1|    0|           0|  0.994325023551287|       4.0|\n",
            "|     1044| 23|     1|        0|                1|18.245091222023113|       9|       0|              2|              0|     1|    0|           0| 2.8888916692724433|       2.0|\n",
            "|     1082| 23|     1|        2|                2|0.8776217673748721|      25|       0|              2|              0|     0|    0|           0|  0.500508035804656|       4.0|\n",
            "|     1046| 23|     0|        0|                2| 4.894311940474019|       7|       0|              4|              0|     0|    1|           0|  2.515300272256249|       2.0|\n",
            "|     1084| 23|     0|        2|                1|  8.88959955955582|      16|       0|              1|              0|     1|    0|           0| 1.4633780357856976|       4.0|\n",
            "|     1091| 23|     0|        3|                1| 3.829792298162389|      26|       0|              1|              0|     0|    0|           1|0.19474328074551517|       4.0|\n",
            "+---------+---+------+---------+-----------------+------------------+--------+--------+---------------+---------------+------+-----+------------+-------------------+----------+\n",
            "only showing top 20 rows\n",
            "\n"
          ]
        }
      ]
    },
    {
      "cell_type": "code",
      "source": [],
      "metadata": {
        "id": "eZNVqnz4Fy0u"
      },
      "execution_count": null,
      "outputs": []
    }
  ],
  "metadata": {
    "colab": {
      "name": "Welcome To Colab",
      "provenance": [],
      "include_colab_link": true
    },
    "kernelspec": {
      "display_name": "Python 3",
      "name": "python3"
    }
  },
  "nbformat": 4,
  "nbformat_minor": 0
}