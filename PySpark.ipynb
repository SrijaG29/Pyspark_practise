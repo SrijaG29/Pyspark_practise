{
  "cells": [
    {
      "cell_type": "markdown",
      "metadata": {
        "id": "view-in-github",
        "colab_type": "text"
      },
      "source": [
        "<a href=\"https://colab.research.google.com/github/SrijaG29/Pyspark_practise/blob/main/PySpark.ipynb\" target=\"_parent\"><img src=\"https://colab.research.google.com/assets/colab-badge.svg\" alt=\"Open In Colab\"/></a>"
      ]
    },
    {
      "cell_type": "markdown",
      "source": [
        "**PySpark**"
      ],
      "metadata": {
        "id": "jkGFc8_vK1u8"
      }
    },
    {
      "cell_type": "code",
      "source": [
        "!pip install pyspark"
      ],
      "metadata": {
        "colab": {
          "base_uri": "https://localhost:8080/"
        },
        "id": "iwyYusWzK1S9",
        "outputId": "33118d0a-879e-4f27-ff8c-7a63b2b98925"
      },
      "execution_count": 1,
      "outputs": [
        {
          "output_type": "stream",
          "name": "stdout",
          "text": [
            "Collecting pyspark\n",
            "  Downloading pyspark-3.5.1.tar.gz (317.0 MB)\n",
            "\u001b[2K     \u001b[90m━━━━━━━━━━━━━━━━━━━━━━━━━━━━━━━━━━━━━━━━\u001b[0m \u001b[32m317.0/317.0 MB\u001b[0m \u001b[31m1.5 MB/s\u001b[0m eta \u001b[36m0:00:00\u001b[0m\n",
            "\u001b[?25h  Preparing metadata (setup.py) ... \u001b[?25l\u001b[?25hdone\n",
            "Requirement already satisfied: py4j==0.10.9.7 in /usr/local/lib/python3.10/dist-packages (from pyspark) (0.10.9.7)\n",
            "Building wheels for collected packages: pyspark\n",
            "  Building wheel for pyspark (setup.py) ... \u001b[?25l\u001b[?25hdone\n",
            "  Created wheel for pyspark: filename=pyspark-3.5.1-py2.py3-none-any.whl size=317488490 sha256=64d50674f3bf1a82e615c05f9c4d3c469707f6f94f009eb97a14af97718532c5\n",
            "  Stored in directory: /root/.cache/pip/wheels/80/1d/60/2c256ed38dddce2fdd93be545214a63e02fbd8d74fb0b7f3a6\n",
            "Successfully built pyspark\n",
            "Installing collected packages: pyspark\n",
            "Successfully installed pyspark-3.5.1\n"
          ]
        }
      ]
    },
    {
      "cell_type": "code",
      "source": [
        "from pyspark import SparkConf,SparkContext"
      ],
      "metadata": {
        "id": "232cVfblL4Z0"
      },
      "execution_count": 2,
      "outputs": []
    },
    {
      "cell_type": "code",
      "source": [
        "conf = SparkConf().setAppName(\"Read File\")\n",
        "sc = SparkContext.getOrCreate(conf = conf)"
      ],
      "metadata": {
        "id": "ivGpEkFrMFHv"
      },
      "execution_count": 3,
      "outputs": []
    },
    {
      "cell_type": "markdown",
      "source": [
        "Instead of dowloading the text file using path of the file we can directly create the text file here."
      ],
      "metadata": {
        "id": "gY5yrqinODed"
      }
    },
    {
      "cell_type": "markdown",
      "source": [
        "For writing the file."
      ],
      "metadata": {
        "id": "rsoXUiUuOOH_"
      }
    },
    {
      "cell_type": "code",
      "source": [
        "with open('sampletext.txt', 'w') as f:\n",
        "  f.write('Hi How are you\\n')\n",
        "  f.write('Hope you are doing good\\n')\n",
        "  f.write('great')"
      ],
      "metadata": {
        "id": "XSGnYyHcMb-S"
      },
      "execution_count": 20,
      "outputs": []
    },
    {
      "cell_type": "markdown",
      "source": [
        "For reading the file."
      ],
      "metadata": {
        "id": "m0z7KVUIOQpC"
      }
    },
    {
      "cell_type": "code",
      "source": [
        "with open('sampletext.txt','r') as f:\n",
        "  x = f.read()\n",
        "  print(x)"
      ],
      "metadata": {
        "colab": {
          "base_uri": "https://localhost:8080/"
        },
        "id": "ZFpDGc1kNciU",
        "outputId": "c1af69ec-9df6-4e61-b5a6-48fb88526499"
      },
      "execution_count": 21,
      "outputs": [
        {
          "output_type": "stream",
          "name": "stdout",
          "text": [
            "Hi How are you\n",
            "Hope you are doing good\n",
            "great\n"
          ]
        }
      ]
    },
    {
      "cell_type": "markdown",
      "source": [
        "Fo direct download from the files in colab we need to give file path."
      ],
      "metadata": {
        "id": "Ch2CpByROfhQ"
      }
    },
    {
      "cell_type": "code",
      "source": [
        "text = sc.textFile('/content/sampletext.txt')\n",
        "text.collect()"
      ],
      "metadata": {
        "colab": {
          "base_uri": "https://localhost:8080/"
        },
        "id": "eKITf-o7OuJ8",
        "outputId": "0dc49eeb-4a41-4bdf-a124-fd9965187f49"
      },
      "execution_count": 22,
      "outputs": [
        {
          "output_type": "execute_result",
          "data": {
            "text/plain": [
              "['Hi How are you', 'Hope you are doing good', 'great']"
            ]
          },
          "metadata": {},
          "execution_count": 22
        }
      ]
    },
    {
      "cell_type": "markdown",
      "source": [
        "This is another way to write or creat rdd."
      ],
      "metadata": {
        "id": "u17qTUmteTTu"
      }
    },
    {
      "cell_type": "code",
      "source": [
        "temp = sc.parallelize([['a','b','c'],['d','e','f']])\n",
        "temp.collect()"
      ],
      "metadata": {
        "id": "kpVbuyrFd77g",
        "outputId": "e44c588f-afd1-46d8-83b8-b33f2cc4f4de",
        "colab": {
          "base_uri": "https://localhost:8080/"
        }
      },
      "execution_count": 7,
      "outputs": [
        {
          "output_type": "execute_result",
          "data": {
            "text/plain": [
              "[['a', 'b', 'c'], ['d', 'e', 'f']]"
            ]
          },
          "metadata": {},
          "execution_count": 7
        }
      ]
    },
    {
      "cell_type": "markdown",
      "source": [
        "**Map**\n",
        "It is used as a maper of data from one state to another."
      ],
      "metadata": {
        "id": "EEbemAS4O8X2"
      }
    },
    {
      "cell_type": "code",
      "source": [
        "rdd = text.map(lambda x : x.split(' '))"
      ],
      "metadata": {
        "id": "aMcVZGHsO7Sq"
      },
      "execution_count": 23,
      "outputs": []
    },
    {
      "cell_type": "code",
      "source": [
        "rdd.collect()"
      ],
      "metadata": {
        "colab": {
          "base_uri": "https://localhost:8080/"
        },
        "id": "EqMvcmyzPlTM",
        "outputId": "61f5840e-ec44-41a9-85e4-c31c0cd12d4d"
      },
      "execution_count": 24,
      "outputs": [
        {
          "output_type": "execute_result",
          "data": {
            "text/plain": [
              "[['Hi', 'How', 'are', 'you'],\n",
              " ['Hope', 'you', 'are', 'doing', 'good'],\n",
              " ['great']]"
            ]
          },
          "metadata": {},
          "execution_count": 24
        }
      ]
    },
    {
      "cell_type": "code",
      "source": [
        "def ex(x):\n",
        "  l = x.split()\n",
        "  f = []\n",
        "  for i in l:\n",
        "    f.append(i+'hello')\n",
        "  return f\n",
        "rdd1 = text.map(ex)"
      ],
      "metadata": {
        "id": "0g_ABmuBP_4t"
      },
      "execution_count": 25,
      "outputs": []
    },
    {
      "cell_type": "code",
      "source": [
        "rdd1.collect()"
      ],
      "metadata": {
        "colab": {
          "base_uri": "https://localhost:8080/"
        },
        "id": "guDB87k0QYFN",
        "outputId": "d6384337-6506-4390-d1ce-410e388881cd"
      },
      "execution_count": 26,
      "outputs": [
        {
          "output_type": "execute_result",
          "data": {
            "text/plain": [
              "[['Hihello', 'Howhello', 'arehello', 'youhello'],\n",
              " ['Hopehello', 'youhello', 'arehello', 'doinghello', 'goodhello'],\n",
              " ['greathello']]"
            ]
          },
          "metadata": {},
          "execution_count": 26
        }
      ]
    },
    {
      "cell_type": "markdown",
      "source": [
        "find the length of each word and return only length."
      ],
      "metadata": {
        "id": "30DVU-NzUCli"
      }
    },
    {
      "cell_type": "code",
      "source": [
        "def findlength(x):\n",
        "  l = x.split(' ')\n",
        "  f = ''\n",
        "  for i in range(len(l)):\n",
        "    if i!= len(l)-1:\n",
        "      f = f + str(len(l[i])) + ' '\n",
        "    else:\n",
        "      f = f + str(len(l[i]))\n",
        "  return f\n",
        "rdd = text.map(findlength)"
      ],
      "metadata": {
        "id": "vAVBcC6cQzj2"
      },
      "execution_count": 27,
      "outputs": []
    },
    {
      "cell_type": "code",
      "source": [
        "rdd.collect()"
      ],
      "metadata": {
        "colab": {
          "base_uri": "https://localhost:8080/"
        },
        "id": "zk11h3kaTBPn",
        "outputId": "1ec65ce8-b106-4692-a3a2-d59c0fb7954a"
      },
      "execution_count": 28,
      "outputs": [
        {
          "output_type": "execute_result",
          "data": {
            "text/plain": [
              "['2 3 3 3', '4 3 3 5 4', '5']"
            ]
          },
          "metadata": {},
          "execution_count": 28
        }
      ]
    },
    {
      "cell_type": "markdown",
      "source": [
        "**flatMap:**\n",
        " It is used as a mapper of data and explodes data before final output."
      ],
      "metadata": {
        "id": "frd7nYnyfpsk"
      }
    },
    {
      "cell_type": "code",
      "source": [
        "rdd1 = rdd.flatMap(lambda x : x.split(' '))\n",
        "rdd1.collect()"
      ],
      "metadata": {
        "id": "nIp3KddpbKkq",
        "outputId": "ce777f9e-8035-409e-b29c-baa0d6d457dc",
        "colab": {
          "base_uri": "https://localhost:8080/"
        }
      },
      "execution_count": 29,
      "outputs": [
        {
          "output_type": "execute_result",
          "data": {
            "text/plain": [
              "['2', '3', '3', '3', '4', '3', '3', '5', '4', '5']"
            ]
          },
          "metadata": {},
          "execution_count": 29
        }
      ]
    },
    {
      "cell_type": "markdown",
      "source": [
        "**filter:** It is used to remove elements from rdd."
      ],
      "metadata": {
        "id": "2pMRFmJihMoc"
      }
    },
    {
      "cell_type": "code",
      "source": [
        "rdd2 = rdd1.filter(lambda x : x!='2')\n",
        "rdd2.collect()"
      ],
      "metadata": {
        "id": "rLZ72RVJhUgl",
        "outputId": "690ed30b-dee8-4c89-b840-74e329bb8050",
        "colab": {
          "base_uri": "https://localhost:8080/"
        }
      },
      "execution_count": 30,
      "outputs": [
        {
          "output_type": "execute_result",
          "data": {
            "text/plain": [
              "['3', '3', '3', '4', '3', '3', '5', '4', '5']"
            ]
          },
          "metadata": {},
          "execution_count": 30
        }
      ]
    },
    {
      "cell_type": "code",
      "source": [
        "def ex(x):\n",
        "  if x != '2':\n",
        "    return True\n",
        "  else:\n",
        "    return False\n",
        "rdd2 = rdd1.filter(ex)\n",
        "rdd2.collect()"
      ],
      "metadata": {
        "id": "quYyoOn6iO2-",
        "outputId": "27ff34d3-4550-46b9-dfa1-b5e8d5847b1a",
        "colab": {
          "base_uri": "https://localhost:8080/"
        }
      },
      "execution_count": 31,
      "outputs": [
        {
          "output_type": "execute_result",
          "data": {
            "text/plain": [
              "['3', '3', '3', '4', '3', '3', '5', '4', '5']"
            ]
          },
          "metadata": {},
          "execution_count": 31
        }
      ]
    },
    {
      "cell_type": "markdown",
      "source": [
        "**Distinct:** It is used to get unique/distinct elements"
      ],
      "metadata": {
        "id": "mmQnE_ZkjvCv"
      }
    },
    {
      "cell_type": "code",
      "source": [
        "def ex(x):\n",
        "  if x != '2':\n",
        "    return True\n",
        "  else:\n",
        "    return False\n",
        "rdd2 = rdd1.filter(ex)\n",
        "rdd3 = rdd2.distinct()\n",
        "rdd3.collect()"
      ],
      "metadata": {
        "id": "-ukyi9CXiz2p",
        "outputId": "90e221fb-e3f0-48b7-a781-989fbf7b98cb",
        "colab": {
          "base_uri": "https://localhost:8080/"
        }
      },
      "execution_count": 32,
      "outputs": [
        {
          "output_type": "execute_result",
          "data": {
            "text/plain": [
              "['4', '3', '5']"
            ]
          },
          "metadata": {},
          "execution_count": 32
        }
      ]
    },
    {
      "cell_type": "markdown",
      "source": [
        "**Count:** It return no.of elemets in rdd."
      ],
      "metadata": {
        "id": "dLstEZFAklCO"
      }
    },
    {
      "cell_type": "code",
      "source": [
        "rdd2.count()"
      ],
      "metadata": {
        "id": "BwpmT9LPkqSM",
        "outputId": "95b84c8a-d325-449e-ba97-e88a6dd66a1b",
        "colab": {
          "base_uri": "https://localhost:8080/"
        }
      },
      "execution_count": 33,
      "outputs": [
        {
          "output_type": "execute_result",
          "data": {
            "text/plain": [
              "9"
            ]
          },
          "metadata": {},
          "execution_count": 33
        }
      ]
    },
    {
      "cell_type": "markdown",
      "source": [
        "**CountByValue:** It provides how many times each value hass occur in rdd."
      ],
      "metadata": {
        "id": "9JyuGyLtk0VG"
      }
    },
    {
      "cell_type": "code",
      "source": [
        "rdd2.countByValue()"
      ],
      "metadata": {
        "id": "OKmpLAuNlCWa",
        "outputId": "b6510dc5-8d82-4bf0-80bf-3272a097909c",
        "colab": {
          "base_uri": "https://localhost:8080/"
        }
      },
      "execution_count": 34,
      "outputs": [
        {
          "output_type": "execute_result",
          "data": {
            "text/plain": [
              "defaultdict(int, {'3': 5, '4': 2, '5': 2})"
            ]
          },
          "metadata": {},
          "execution_count": 34
        }
      ]
    },
    {
      "cell_type": "markdown",
      "source": [
        "**GroupByValue:** It is used to create groups based on Keys in RDD."
      ],
      "metadata": {
        "id": "9IpaI1hvBa1A"
      }
    },
    {
      "cell_type": "code",
      "source": [
        "def findlen(x):\n",
        "  return (x,len(x))\n",
        "rdd4 = rdd1.map(findlen)\n",
        "rdd4.groupByKey().mapValues(list).collect()"
      ],
      "metadata": {
        "colab": {
          "base_uri": "https://localhost:8080/"
        },
        "id": "37uXLIaFBl25",
        "outputId": "ecf6d23d-ec9c-4ed4-c46e-df3034138b4b"
      },
      "execution_count": 35,
      "outputs": [
        {
          "output_type": "execute_result",
          "data": {
            "text/plain": [
              "[('4', [1, 1]), ('2', [1]), ('3', [1, 1, 1, 1, 1]), ('5', [1, 1])]"
            ]
          },
          "metadata": {},
          "execution_count": 35
        }
      ]
    },
    {
      "cell_type": "markdown",
      "source": [
        "**ReduceByKey:** It is used to combine data based on keys in rdd."
      ],
      "metadata": {
        "id": "F5lzXe4wEGQM"
      }
    },
    {
      "cell_type": "code",
      "source": [
        "rdd4.reduceByKey(lambda x,y:x+y).collect()"
      ],
      "metadata": {
        "colab": {
          "base_uri": "https://localhost:8080/"
        },
        "id": "1D2x5CPdD2Mm",
        "outputId": "f10bcae2-336b-4fcf-d8b3-089e3ddc523a"
      },
      "execution_count": 36,
      "outputs": [
        {
          "output_type": "execute_result",
          "data": {
            "text/plain": [
              "[('4', 2), ('2', 1), ('3', 5), ('5', 2)]"
            ]
          },
          "metadata": {},
          "execution_count": 36
        }
      ]
    }
  ],
  "metadata": {
    "colab": {
      "name": "Welcome To Colab",
      "provenance": [],
      "include_colab_link": true
    },
    "kernelspec": {
      "display_name": "Python 3",
      "name": "python3"
    }
  },
  "nbformat": 4,
  "nbformat_minor": 0
}