{
  "cells": [
    {
      "cell_type": "markdown",
      "metadata": {
        "id": "view-in-github",
        "colab_type": "text"
      },
      "source": [
        "<a href=\"https://colab.research.google.com/github/SrijaG29/Pyspark_practise/blob/main/PySpark.ipynb\" target=\"_parent\"><img src=\"https://colab.research.google.com/assets/colab-badge.svg\" alt=\"Open In Colab\"/></a>"
      ]
    },
    {
      "cell_type": "markdown",
      "source": [
        "**PySpark**"
      ],
      "metadata": {
        "id": "jkGFc8_vK1u8"
      }
    },
    {
      "cell_type": "code",
      "source": [
        "!pip install pyspark"
      ],
      "metadata": {
        "colab": {
          "base_uri": "https://localhost:8080/"
        },
        "id": "iwyYusWzK1S9",
        "outputId": "32de1d5c-916f-4fbb-aefe-11e14b602dec"
      },
      "execution_count": 2,
      "outputs": [
        {
          "output_type": "stream",
          "name": "stdout",
          "text": [
            "Collecting pyspark\n",
            "  Downloading pyspark-3.5.1.tar.gz (317.0 MB)\n",
            "\u001b[2K     \u001b[90m━━━━━━━━━━━━━━━━━━━━━━━━━━━━━━━━━━━━━━━━\u001b[0m \u001b[32m317.0/317.0 MB\u001b[0m \u001b[31m4.8 MB/s\u001b[0m eta \u001b[36m0:00:00\u001b[0m\n",
            "\u001b[?25h  Preparing metadata (setup.py) ... \u001b[?25l\u001b[?25hdone\n",
            "Requirement already satisfied: py4j==0.10.9.7 in /usr/local/lib/python3.10/dist-packages (from pyspark) (0.10.9.7)\n",
            "Building wheels for collected packages: pyspark\n",
            "  Building wheel for pyspark (setup.py) ... \u001b[?25l\u001b[?25hdone\n",
            "  Created wheel for pyspark: filename=pyspark-3.5.1-py2.py3-none-any.whl size=317488490 sha256=14f6ac69297a2bcfacf2ec73d44fdbffdbaf3f3b438e780403fac7b3ab65bbd7\n",
            "  Stored in directory: /root/.cache/pip/wheels/80/1d/60/2c256ed38dddce2fdd93be545214a63e02fbd8d74fb0b7f3a6\n",
            "Successfully built pyspark\n",
            "Installing collected packages: pyspark\n",
            "Successfully installed pyspark-3.5.1\n"
          ]
        }
      ]
    },
    {
      "cell_type": "code",
      "source": [
        "from pyspark import SparkConf,SparkContext"
      ],
      "metadata": {
        "id": "232cVfblL4Z0"
      },
      "execution_count": 2,
      "outputs": []
    },
    {
      "cell_type": "code",
      "source": [
        "conf = SparkConf().setAppName(\"Read File\")\n",
        "sc = SparkContext.getOrCreate(conf = conf)"
      ],
      "metadata": {
        "id": "ivGpEkFrMFHv"
      },
      "execution_count": 3,
      "outputs": []
    },
    {
      "cell_type": "markdown",
      "source": [
        "Instead of dowloading the text file using path of the file we can directly create the text file here."
      ],
      "metadata": {
        "id": "gY5yrqinODed"
      }
    },
    {
      "cell_type": "markdown",
      "source": [
        "For writing the file."
      ],
      "metadata": {
        "id": "rsoXUiUuOOH_"
      }
    },
    {
      "cell_type": "code",
      "source": [
        "with open('sampletext.txt', 'w') as f:\n",
        "  f.write('Hi How are you\\n')\n",
        "  f.write('Hope you are doing good\\n')\n",
        "  f.write('great')"
      ],
      "metadata": {
        "id": "XSGnYyHcMb-S"
      },
      "execution_count": 20,
      "outputs": []
    },
    {
      "cell_type": "markdown",
      "source": [
        "For reading the file."
      ],
      "metadata": {
        "id": "m0z7KVUIOQpC"
      }
    },
    {
      "cell_type": "code",
      "source": [
        "with open('sampletext.txt','r') as f:\n",
        "  x = f.read()\n",
        "  print(x)"
      ],
      "metadata": {
        "colab": {
          "base_uri": "https://localhost:8080/"
        },
        "id": "ZFpDGc1kNciU",
        "outputId": "c1af69ec-9df6-4e61-b5a6-48fb88526499"
      },
      "execution_count": 21,
      "outputs": [
        {
          "output_type": "stream",
          "name": "stdout",
          "text": [
            "Hi How are you\n",
            "Hope you are doing good\n",
            "great\n"
          ]
        }
      ]
    },
    {
      "cell_type": "markdown",
      "source": [
        "Fo direct download from the files in colab we need to give file path."
      ],
      "metadata": {
        "id": "Ch2CpByROfhQ"
      }
    },
    {
      "cell_type": "code",
      "source": [
        "text = sc.textFile('/content/sampletext.txt')\n",
        "text.collect()"
      ],
      "metadata": {
        "colab": {
          "base_uri": "https://localhost:8080/"
        },
        "id": "eKITf-o7OuJ8",
        "outputId": "0dc49eeb-4a41-4bdf-a124-fd9965187f49"
      },
      "execution_count": 22,
      "outputs": [
        {
          "output_type": "execute_result",
          "data": {
            "text/plain": [
              "['Hi How are you', 'Hope you are doing good', 'great']"
            ]
          },
          "metadata": {},
          "execution_count": 22
        }
      ]
    },
    {
      "cell_type": "markdown",
      "source": [
        "This is another way to write or creat rdd."
      ],
      "metadata": {
        "id": "u17qTUmteTTu"
      }
    },
    {
      "cell_type": "code",
      "source": [
        "temp = sc.parallelize([['a','b','c'],['d','e','f']])\n",
        "temp.collect()"
      ],
      "metadata": {
        "id": "kpVbuyrFd77g",
        "outputId": "e44c588f-afd1-46d8-83b8-b33f2cc4f4de",
        "colab": {
          "base_uri": "https://localhost:8080/"
        }
      },
      "execution_count": 7,
      "outputs": [
        {
          "output_type": "execute_result",
          "data": {
            "text/plain": [
              "[['a', 'b', 'c'], ['d', 'e', 'f']]"
            ]
          },
          "metadata": {},
          "execution_count": 7
        }
      ]
    },
    {
      "cell_type": "markdown",
      "source": [
        "**Map**\n",
        "It is used as a maper of data from one state to another."
      ],
      "metadata": {
        "id": "EEbemAS4O8X2"
      }
    },
    {
      "cell_type": "code",
      "source": [
        "rdd = text.map(lambda x : x.split(' '))"
      ],
      "metadata": {
        "id": "aMcVZGHsO7Sq"
      },
      "execution_count": 23,
      "outputs": []
    },
    {
      "cell_type": "code",
      "source": [
        "rdd.collect()"
      ],
      "metadata": {
        "colab": {
          "base_uri": "https://localhost:8080/"
        },
        "id": "EqMvcmyzPlTM",
        "outputId": "61f5840e-ec44-41a9-85e4-c31c0cd12d4d"
      },
      "execution_count": 24,
      "outputs": [
        {
          "output_type": "execute_result",
          "data": {
            "text/plain": [
              "[['Hi', 'How', 'are', 'you'],\n",
              " ['Hope', 'you', 'are', 'doing', 'good'],\n",
              " ['great']]"
            ]
          },
          "metadata": {},
          "execution_count": 24
        }
      ]
    },
    {
      "cell_type": "code",
      "source": [
        "def ex(x):\n",
        "  l = x.split()\n",
        "  f = []\n",
        "  for i in l:\n",
        "    f.append(i+'hello')\n",
        "  return f\n",
        "rdd1 = text.map(ex)"
      ],
      "metadata": {
        "id": "0g_ABmuBP_4t"
      },
      "execution_count": 25,
      "outputs": []
    },
    {
      "cell_type": "code",
      "source": [
        "rdd1.collect()"
      ],
      "metadata": {
        "colab": {
          "base_uri": "https://localhost:8080/"
        },
        "id": "guDB87k0QYFN",
        "outputId": "d6384337-6506-4390-d1ce-410e388881cd"
      },
      "execution_count": 26,
      "outputs": [
        {
          "output_type": "execute_result",
          "data": {
            "text/plain": [
              "[['Hihello', 'Howhello', 'arehello', 'youhello'],\n",
              " ['Hopehello', 'youhello', 'arehello', 'doinghello', 'goodhello'],\n",
              " ['greathello']]"
            ]
          },
          "metadata": {},
          "execution_count": 26
        }
      ]
    },
    {
      "cell_type": "markdown",
      "source": [
        "find the length of each word and return only length."
      ],
      "metadata": {
        "id": "30DVU-NzUCli"
      }
    },
    {
      "cell_type": "code",
      "source": [
        "def findlength(x):\n",
        "  l = x.split(' ')\n",
        "  f = ''\n",
        "  for i in range(len(l)):\n",
        "    if i!= len(l)-1:\n",
        "      f = f + str(len(l[i])) + ' '\n",
        "    else:\n",
        "      f = f + str(len(l[i]))\n",
        "  return f\n",
        "rdd = text.map(findlength)"
      ],
      "metadata": {
        "id": "vAVBcC6cQzj2"
      },
      "execution_count": 27,
      "outputs": []
    },
    {
      "cell_type": "code",
      "source": [
        "rdd.collect()"
      ],
      "metadata": {
        "colab": {
          "base_uri": "https://localhost:8080/"
        },
        "id": "zk11h3kaTBPn",
        "outputId": "1ec65ce8-b106-4692-a3a2-d59c0fb7954a"
      },
      "execution_count": 28,
      "outputs": [
        {
          "output_type": "execute_result",
          "data": {
            "text/plain": [
              "['2 3 3 3', '4 3 3 5 4', '5']"
            ]
          },
          "metadata": {},
          "execution_count": 28
        }
      ]
    },
    {
      "cell_type": "markdown",
      "source": [
        "**flatMap:**\n",
        " It is used as a mapper of data and explodes data before final output."
      ],
      "metadata": {
        "id": "frd7nYnyfpsk"
      }
    },
    {
      "cell_type": "code",
      "source": [
        "rdd1 = rdd.flatMap(lambda x : x.split(' '))\n",
        "rdd1.collect()"
      ],
      "metadata": {
        "id": "nIp3KddpbKkq",
        "outputId": "ce777f9e-8035-409e-b29c-baa0d6d457dc",
        "colab": {
          "base_uri": "https://localhost:8080/"
        }
      },
      "execution_count": 29,
      "outputs": [
        {
          "output_type": "execute_result",
          "data": {
            "text/plain": [
              "['2', '3', '3', '3', '4', '3', '3', '5', '4', '5']"
            ]
          },
          "metadata": {},
          "execution_count": 29
        }
      ]
    },
    {
      "cell_type": "markdown",
      "source": [
        "**filter:** It is used to remove elements from rdd."
      ],
      "metadata": {
        "id": "2pMRFmJihMoc"
      }
    },
    {
      "cell_type": "code",
      "source": [
        "rdd2 = rdd1.filter(lambda x : x!='2')\n",
        "rdd2.collect()"
      ],
      "metadata": {
        "id": "rLZ72RVJhUgl",
        "outputId": "690ed30b-dee8-4c89-b840-74e329bb8050",
        "colab": {
          "base_uri": "https://localhost:8080/"
        }
      },
      "execution_count": 30,
      "outputs": [
        {
          "output_type": "execute_result",
          "data": {
            "text/plain": [
              "['3', '3', '3', '4', '3', '3', '5', '4', '5']"
            ]
          },
          "metadata": {},
          "execution_count": 30
        }
      ]
    },
    {
      "cell_type": "code",
      "source": [
        "def ex(x):\n",
        "  if x != '2':\n",
        "    return True\n",
        "  else:\n",
        "    return False\n",
        "rdd2 = rdd1.filter(ex)\n",
        "rdd2.collect()"
      ],
      "metadata": {
        "id": "quYyoOn6iO2-",
        "outputId": "27ff34d3-4550-46b9-dfa1-b5e8d5847b1a",
        "colab": {
          "base_uri": "https://localhost:8080/"
        }
      },
      "execution_count": 31,
      "outputs": [
        {
          "output_type": "execute_result",
          "data": {
            "text/plain": [
              "['3', '3', '3', '4', '3', '3', '5', '4', '5']"
            ]
          },
          "metadata": {},
          "execution_count": 31
        }
      ]
    },
    {
      "cell_type": "markdown",
      "source": [
        "**Distinct:** It is used to get unique/distinct elements"
      ],
      "metadata": {
        "id": "mmQnE_ZkjvCv"
      }
    },
    {
      "cell_type": "code",
      "source": [
        "def ex(x):\n",
        "  if x != '2':\n",
        "    return True\n",
        "  else:\n",
        "    return False\n",
        "rdd2 = rdd1.filter(ex)\n",
        "rdd3 = rdd2.distinct()\n",
        "rdd3.collect()"
      ],
      "metadata": {
        "id": "-ukyi9CXiz2p",
        "outputId": "90e221fb-e3f0-48b7-a781-989fbf7b98cb",
        "colab": {
          "base_uri": "https://localhost:8080/"
        }
      },
      "execution_count": 32,
      "outputs": [
        {
          "output_type": "execute_result",
          "data": {
            "text/plain": [
              "['4', '3', '5']"
            ]
          },
          "metadata": {},
          "execution_count": 32
        }
      ]
    },
    {
      "cell_type": "markdown",
      "source": [
        "**Count:** It return no.of elemets in rdd."
      ],
      "metadata": {
        "id": "dLstEZFAklCO"
      }
    },
    {
      "cell_type": "code",
      "source": [
        "rdd2.count()"
      ],
      "metadata": {
        "id": "BwpmT9LPkqSM",
        "outputId": "95b84c8a-d325-449e-ba97-e88a6dd66a1b",
        "colab": {
          "base_uri": "https://localhost:8080/"
        }
      },
      "execution_count": 33,
      "outputs": [
        {
          "output_type": "execute_result",
          "data": {
            "text/plain": [
              "9"
            ]
          },
          "metadata": {},
          "execution_count": 33
        }
      ]
    },
    {
      "cell_type": "markdown",
      "source": [
        "**CountByValue:** It provides how many times each value hass occur in rdd."
      ],
      "metadata": {
        "id": "9JyuGyLtk0VG"
      }
    },
    {
      "cell_type": "code",
      "source": [
        "rdd2.countByValue()"
      ],
      "metadata": {
        "id": "OKmpLAuNlCWa",
        "outputId": "b6510dc5-8d82-4bf0-80bf-3272a097909c",
        "colab": {
          "base_uri": "https://localhost:8080/"
        }
      },
      "execution_count": 34,
      "outputs": [
        {
          "output_type": "execute_result",
          "data": {
            "text/plain": [
              "defaultdict(int, {'3': 5, '4': 2, '5': 2})"
            ]
          },
          "metadata": {},
          "execution_count": 34
        }
      ]
    },
    {
      "cell_type": "markdown",
      "source": [
        "**GroupByValue:** It is used to create groups based on Keys in RDD."
      ],
      "metadata": {
        "id": "9IpaI1hvBa1A"
      }
    },
    {
      "cell_type": "code",
      "source": [
        "def findlen(x):\n",
        "  return (x,len(x))\n",
        "rdd4 = rdd1.map(findlen)\n",
        "rdd4.groupByKey().mapValues(list).collect()"
      ],
      "metadata": {
        "colab": {
          "base_uri": "https://localhost:8080/"
        },
        "id": "37uXLIaFBl25",
        "outputId": "ecf6d23d-ec9c-4ed4-c46e-df3034138b4b"
      },
      "execution_count": 35,
      "outputs": [
        {
          "output_type": "execute_result",
          "data": {
            "text/plain": [
              "[('4', [1, 1]), ('2', [1]), ('3', [1, 1, 1, 1, 1]), ('5', [1, 1])]"
            ]
          },
          "metadata": {},
          "execution_count": 35
        }
      ]
    },
    {
      "cell_type": "markdown",
      "source": [
        "**ReduceByKey:** It is used to combine data based on keys in rdd."
      ],
      "metadata": {
        "id": "F5lzXe4wEGQM"
      }
    },
    {
      "cell_type": "code",
      "source": [
        "rdd4.reduceByKey(lambda x,y:x+y).collect()"
      ],
      "metadata": {
        "colab": {
          "base_uri": "https://localhost:8080/"
        },
        "id": "1D2x5CPdD2Mm",
        "outputId": "f10bcae2-336b-4fcf-d8b3-089e3ddc523a"
      },
      "execution_count": 36,
      "outputs": [
        {
          "output_type": "execute_result",
          "data": {
            "text/plain": [
              "[('4', 2), ('2', 1), ('3', 5), ('5', 2)]"
            ]
          },
          "metadata": {},
          "execution_count": 36
        }
      ]
    },
    {
      "cell_type": "markdown",
      "source": [
        "**Spark SQL**"
      ],
      "metadata": {
        "id": "u5V-EXUfGjwA"
      }
    },
    {
      "cell_type": "markdown",
      "source": [
        "If we read data from SprakContext then spark provides data as RDD.\n",
        "\n",
        "If we read data from SpaekSession then spark provides data as dataframes."
      ],
      "metadata": {
        "id": "7c-zy15kNOnZ"
      }
    },
    {
      "cell_type": "code",
      "source": [
        "from pyspark import SparkContext"
      ],
      "metadata": {
        "id": "UqDCc2mYGmd5"
      },
      "execution_count": 3,
      "outputs": []
    },
    {
      "cell_type": "code",
      "source": [
        "from pyspark.sql import SparkSession\n",
        "spark = SparkSession.builder\\\n",
        "        .appName(\"py-Spark\")\\\n",
        "        .getOrCreate()"
      ],
      "metadata": {
        "id": "En8dlkwLHuj7"
      },
      "execution_count": 9,
      "outputs": []
    },
    {
      "cell_type": "code",
      "source": [
        "!wget https://raw.githubusercontent.com/haneeth25/Libraries_prac/main/Student_performance_data%20_.csv"
      ],
      "metadata": {
        "id": "GYPKCwIXOW1M",
        "outputId": "46835dfb-84a0-4241-963a-4e751bd54536",
        "colab": {
          "base_uri": "https://localhost:8080/"
        }
      },
      "execution_count": 6,
      "outputs": [
        {
          "output_type": "stream",
          "name": "stdout",
          "text": [
            "--2024-07-25 09:29:43--  https://raw.githubusercontent.com/haneeth25/Libraries_prac/main/Student_performance_data%20_.csv\n",
            "Resolving raw.githubusercontent.com (raw.githubusercontent.com)... 185.199.108.133, 185.199.109.133, 185.199.110.133, ...\n",
            "Connecting to raw.githubusercontent.com (raw.githubusercontent.com)|185.199.108.133|:443... connected.\n",
            "HTTP request sent, awaiting response... 200 OK\n",
            "Length: 166901 (163K) [text/plain]\n",
            "Saving to: ‘Student_performance_data _.csv’\n",
            "\n",
            "\r          Student_p   0%[                    ]       0  --.-KB/s               \rStudent_performance 100%[===================>] 162.99K  --.-KB/s    in 0.006s  \n",
            "\n",
            "2024-07-25 09:29:43 (28.0 MB/s) - ‘Student_performance_data _.csv’ saved [166901/166901]\n",
            "\n"
          ]
        }
      ]
    },
    {
      "cell_type": "markdown",
      "source": [
        "Here we are creating dataframe df by using csv file \"student_performance_data\"."
      ],
      "metadata": {
        "id": "csUr1O5bQmrK"
      }
    },
    {
      "cell_type": "code",
      "source": [
        "df = spark.read.option(\"header\",True).csv('/content/Student_performance_data.csv')"
      ],
      "metadata": {
        "id": "9iiBQYJfN_01"
      },
      "execution_count": 17,
      "outputs": []
    },
    {
      "cell_type": "code",
      "source": [
        "df.show()"
      ],
      "metadata": {
        "id": "5BAoyQblOZLQ",
        "outputId": "65d6959d-a111-44c1-9768-a63cf04cc8ac",
        "colab": {
          "base_uri": "https://localhost:8080/"
        }
      },
      "execution_count": 18,
      "outputs": [
        {
          "output_type": "stream",
          "name": "stdout",
          "text": [
            "+---------+---+------+---------+-----------------+------------------+--------+--------+---------------+---------------+------+-----+------------+------------------+----------+\n",
            "|StudentID|Age|Gender|Ethnicity|ParentalEducation|   StudyTimeWeekly|Absences|Tutoring|ParentalSupport|Extracurricular|Sports|Music|Volunteering|               GPA|GradeClass|\n",
            "+---------+---+------+---------+-----------------+------------------+--------+--------+---------------+---------------+------+-----+------------+------------------+----------+\n",
            "|     1001| 17|     1|        0|                2|19.833722807854713|       7|       1|              2|              0|     0|    1|           0| 2.929195591667681|       2.0|\n",
            "|     1002| 18|     0|        0|                1| 15.40875605584674|       0|       0|              1|              0|     0|    0|           0| 3.042914833436377|       1.0|\n",
            "|     1003| 15|     0|        2|                3|  4.21056976881226|      26|       0|              2|              0|     0|    0|           0|0.1126022544661815|       4.0|\n",
            "|     1004| 17|     1|        0|                3|10.028829473958215|      14|       0|              3|              1|     0|    0|           0|2.0542181397029484|       3.0|\n",
            "|     1005| 17|     1|        0|                2|4.6724952729713305|      17|       1|              3|              0|     0|    0|           0|1.2880611817953875|       4.0|\n",
            "|     1006| 18|     0|        0|                1| 8.191218545250186|       0|       0|              1|              1|     0|    0|           0|3.0841836144863937|       1.0|\n",
            "|     1007| 15|     0|        1|                1|15.601680474699295|      10|       0|              3|              0|     1|    0|           0| 2.748237414891583|       2.0|\n",
            "|     1008| 15|     1|        1|                4|15.424496305808074|      22|       1|              1|              1|     0|    0|           0| 1.360142712316461|       4.0|\n",
            "|     1009| 17|     0|        0|                0| 4.562007558047703|       1|       0|              2|              0|     1|    0|           1| 2.896819189513569|       2.0|\n",
            "|     1010| 16|     1|        0|                1|18.444466363097202|       0|       0|              3|              1|     0|    0|           0|3.5734742103297656|       0.0|\n",
            "|     1011| 17|     0|        0|                1|11.851363655296536|      11|       0|              1|              0|     0|    0|           0|2.1471716250185144|       3.0|\n",
            "|     1012| 17|     0|        0|                1|  7.59848581924029|      15|       0|              2|              0|     0|    0|           1|1.5595945190402773|       4.0|\n",
            "|     1013| 17|     0|        1|                1|10.038711615617213|      21|       0|              3|              1|     0|    0|           0| 1.520077814874808|       4.0|\n",
            "|     1014| 17|     0|        1|                2|12.101425068754875|      21|       0|              4|              0|     1|    0|           0|1.7515809583340785|       4.0|\n",
            "|     1015| 18|     1|        0|                1|11.197810636915708|       9|       1|              2|              0|     0|    0|           0| 2.396788117124796|       3.0|\n",
            "|     1016| 15|     0|        0|                2| 9.728100710723563|      17|       1|              0|              0|     1|    0|           0|1.3415207165346672|       4.0|\n",
            "|     1017| 18|     0|        3|                1|10.098656081788002|      14|       0|              2|              1|     1|    0|           0|2.2321752777159762|       3.0|\n",
            "|     1018| 18|     1|        0|                0|3.5282382085577235|      16|       1|              2|              0|     0|    0|           0|1.3844041756940335|       4.0|\n",
            "|     1019| 18|     0|        1|                3| 16.25465808609359|      29|       0|              2|              1|     0|    0|           1|0.4695533233798704|       4.0|\n",
            "|     1020| 17|     0|        0|                1|10.835206398820308|       9|       0|              2|              0|     0|    1|           0|2.3957840945306996|       3.0|\n",
            "+---------+---+------+---------+-----------------+------------------+--------+--------+---------------+---------------+------+-----+------------+------------------+----------+\n",
            "only showing top 20 rows\n",
            "\n"
          ]
        }
      ]
    },
    {
      "cell_type": "markdown",
      "source": [
        "We will print Schema of the data frame by default it will take all datatupes as strings."
      ],
      "metadata": {
        "id": "8TncKDwPTJhf"
      }
    },
    {
      "cell_type": "code",
      "source": [
        "df.printSchema()"
      ],
      "metadata": {
        "id": "jX8Hmq8KPGhK",
        "outputId": "6891e2cf-4c9c-4e08-9e9d-71acb9fb60ad",
        "colab": {
          "base_uri": "https://localhost:8080/"
        }
      },
      "execution_count": 19,
      "outputs": [
        {
          "output_type": "stream",
          "name": "stdout",
          "text": [
            "root\n",
            " |-- StudentID: string (nullable = true)\n",
            " |-- Age: string (nullable = true)\n",
            " |-- Gender: string (nullable = true)\n",
            " |-- Ethnicity: string (nullable = true)\n",
            " |-- ParentalEducation: string (nullable = true)\n",
            " |-- StudyTimeWeekly: string (nullable = true)\n",
            " |-- Absences: string (nullable = true)\n",
            " |-- Tutoring: string (nullable = true)\n",
            " |-- ParentalSupport: string (nullable = true)\n",
            " |-- Extracurricular: string (nullable = true)\n",
            " |-- Sports: string (nullable = true)\n",
            " |-- Music: string (nullable = true)\n",
            " |-- Volunteering: string (nullable = true)\n",
            " |-- GPA: string (nullable = true)\n",
            " |-- GradeClass: string (nullable = true)\n",
            "\n"
          ]
        }
      ]
    },
    {
      "cell_type": "markdown",
      "source": [
        "If we want it to automatically take the datatype as the datatype in csv then we use this way."
      ],
      "metadata": {
        "id": "jAr9qxUITao-"
      }
    },
    {
      "cell_type": "code",
      "source": [
        "df = spark.read.option('inferSchema',True).option('header',True).csv('/content/Student_performance_data.csv')\n",
        "# df.show()\n",
        "df.printSchema()"
      ],
      "metadata": {
        "id": "ekjIs4UUUIZ-",
        "outputId": "8f8ee45a-8e53-4eae-cbf0-f7585056c68e",
        "colab": {
          "base_uri": "https://localhost:8080/"
        }
      },
      "execution_count": 16,
      "outputs": [
        {
          "output_type": "stream",
          "name": "stdout",
          "text": [
            "root\n",
            " |-- StudentID: integer (nullable = true)\n",
            " |-- Age: integer (nullable = true)\n",
            " |-- Gender: integer (nullable = true)\n",
            " |-- Ethnicity: integer (nullable = true)\n",
            " |-- ParentalEducation: integer (nullable = true)\n",
            " |-- StudyTimeWeekly: double (nullable = true)\n",
            " |-- Absences: integer (nullable = true)\n",
            " |-- Tutoring: integer (nullable = true)\n",
            " |-- ParentalSupport: integer (nullable = true)\n",
            " |-- Extracurricular: integer (nullable = true)\n",
            " |-- Sports: integer (nullable = true)\n",
            " |-- Music: integer (nullable = true)\n",
            " |-- Volunteering: integer (nullable = true)\n",
            " |-- GPA: double (nullable = true)\n",
            " |-- GradeClass: double (nullable = true)\n",
            "\n"
          ]
        }
      ]
    },
    {
      "cell_type": "markdown",
      "source": [
        "If we want to assign datatypes manually then we need to use this.\n",
        "\n",
        "for this first we need to import StuctType,StructField,StringType,IntegerType."
      ],
      "metadata": {
        "id": "DUQCd3X4U2x9"
      }
    },
    {
      "cell_type": "code",
      "source": [
        "schema = StructType(\n",
        "    [\n",
        "        StructField('age',IntegerType(),True),\n",
        "        StructField('Gender',IntegerType(),True),\n",
        "        StructField('age',IntegerType(),True),\n",
        "    ]\n",
        ")"
      ],
      "metadata": {
        "id": "wwOENFuJVBtm"
      },
      "execution_count": null,
      "outputs": []
    }
  ],
  "metadata": {
    "colab": {
      "name": "Welcome To Colab",
      "provenance": [],
      "include_colab_link": true
    },
    "kernelspec": {
      "display_name": "Python 3",
      "name": "python3"
    }
  },
  "nbformat": 4,
  "nbformat_minor": 0
}