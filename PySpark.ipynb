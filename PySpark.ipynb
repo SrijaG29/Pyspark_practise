{
  "cells": [
    {
      "cell_type": "markdown",
      "metadata": {
        "id": "view-in-github",
        "colab_type": "text"
      },
      "source": [
        "<a href=\"https://colab.research.google.com/github/SrijaG29/Pyspark_practise/blob/main/PySpark.ipynb\" target=\"_parent\"><img src=\"https://colab.research.google.com/assets/colab-badge.svg\" alt=\"Open In Colab\"/></a>"
      ]
    },
    {
      "cell_type": "markdown",
      "source": [
        "**PySpark**"
      ],
      "metadata": {
        "id": "jkGFc8_vK1u8"
      }
    },
    {
      "cell_type": "code",
      "source": [
        "!pip install pyspark"
      ],
      "metadata": {
        "colab": {
          "base_uri": "https://localhost:8080/"
        },
        "id": "iwyYusWzK1S9",
        "outputId": "e7352c7a-db2b-448f-dbcc-f964393a2cd7"
      },
      "execution_count": 1,
      "outputs": [
        {
          "output_type": "stream",
          "name": "stdout",
          "text": [
            "Collecting pyspark\n",
            "  Downloading pyspark-3.5.1.tar.gz (317.0 MB)\n",
            "\u001b[2K     \u001b[90m━━━━━━━━━━━━━━━━━━━━━━━━━━━━━━━━━━━━━━━━\u001b[0m \u001b[32m317.0/317.0 MB\u001b[0m \u001b[31m3.3 MB/s\u001b[0m eta \u001b[36m0:00:00\u001b[0m\n",
            "\u001b[?25h  Preparing metadata (setup.py) ... \u001b[?25l\u001b[?25hdone\n",
            "Requirement already satisfied: py4j==0.10.9.7 in /usr/local/lib/python3.10/dist-packages (from pyspark) (0.10.9.7)\n",
            "Building wheels for collected packages: pyspark\n",
            "  Building wheel for pyspark (setup.py) ... \u001b[?25l\u001b[?25hdone\n",
            "  Created wheel for pyspark: filename=pyspark-3.5.1-py2.py3-none-any.whl size=317488491 sha256=5a96979ab47f0f493a43a29fcf152bef634bc79ea9d904ab82aa71f1a28c03c0\n",
            "  Stored in directory: /root/.cache/pip/wheels/80/1d/60/2c256ed38dddce2fdd93be545214a63e02fbd8d74fb0b7f3a6\n",
            "Successfully built pyspark\n",
            "Installing collected packages: pyspark\n",
            "Successfully installed pyspark-3.5.1\n"
          ]
        }
      ]
    },
    {
      "cell_type": "code",
      "source": [
        "from pyspark import SparkConf,SparkContext"
      ],
      "metadata": {
        "id": "232cVfblL4Z0"
      },
      "execution_count": 2,
      "outputs": []
    },
    {
      "cell_type": "code",
      "source": [
        "conf = SparkConf().setAppName(\"Read File\")\n",
        "sc = SparkContext.getOrCreate(conf = conf)"
      ],
      "metadata": {
        "id": "ivGpEkFrMFHv"
      },
      "execution_count": 3,
      "outputs": []
    },
    {
      "cell_type": "markdown",
      "source": [
        "Instead of dowloading the text file using path of the file we can directly create the text file here."
      ],
      "metadata": {
        "id": "gY5yrqinODed"
      }
    },
    {
      "cell_type": "markdown",
      "source": [
        "For writing the file."
      ],
      "metadata": {
        "id": "rsoXUiUuOOH_"
      }
    },
    {
      "cell_type": "code",
      "source": [
        "with open('sampletext.txt', 'w') as f:\n",
        "  f.write('1 2 3 4 5\\n')\n",
        "  f.write('6 7 8 9 10\\n')\n",
        "  f.write('11 12 131 14 15')"
      ],
      "metadata": {
        "id": "XSGnYyHcMb-S"
      },
      "execution_count": 5,
      "outputs": []
    },
    {
      "cell_type": "markdown",
      "source": [
        "For reading the file."
      ],
      "metadata": {
        "id": "m0z7KVUIOQpC"
      }
    },
    {
      "cell_type": "code",
      "source": [
        "with open('sampletext.txt','r') as f:\n",
        "  x = f.read()\n",
        "  print(x)"
      ],
      "metadata": {
        "colab": {
          "base_uri": "https://localhost:8080/"
        },
        "id": "ZFpDGc1kNciU",
        "outputId": "738751cc-c718-4bf1-d2a9-54c7b2771980"
      },
      "execution_count": 6,
      "outputs": [
        {
          "output_type": "stream",
          "name": "stdout",
          "text": [
            "1 2 3 4 5\n",
            "6 7 8 9 10\n",
            "11 12 131 14 15\n"
          ]
        }
      ]
    },
    {
      "cell_type": "markdown",
      "source": [
        "Fo direct download from the files in colab we need to give file path."
      ],
      "metadata": {
        "id": "Ch2CpByROfhQ"
      }
    },
    {
      "cell_type": "code",
      "source": [
        "text = sc.textFile('/content/sampletext.txt')\n",
        "text.collect()"
      ],
      "metadata": {
        "colab": {
          "base_uri": "https://localhost:8080/"
        },
        "id": "eKITf-o7OuJ8",
        "outputId": "1256b567-2fc1-4955-e836-8c32805a4f1f"
      },
      "execution_count": 20,
      "outputs": [
        {
          "output_type": "execute_result",
          "data": {
            "text/plain": [
              "['Hi how are you ?', 'Hope you are doing good.', 'great']"
            ]
          },
          "metadata": {},
          "execution_count": 20
        }
      ]
    },
    {
      "cell_type": "markdown",
      "source": [
        "This is another way to write or creat rdd."
      ],
      "metadata": {
        "id": "u17qTUmteTTu"
      }
    },
    {
      "cell_type": "code",
      "source": [
        "temp = sc.parallelize([['a','b','c'],['d','e','f']])\n",
        "temp.collect()"
      ],
      "metadata": {
        "id": "kpVbuyrFd77g",
        "outputId": "0c56e899-3923-4b54-ce2d-a9f88d7a3454",
        "colab": {
          "base_uri": "https://localhost:8080/"
        }
      },
      "execution_count": 33,
      "outputs": [
        {
          "output_type": "execute_result",
          "data": {
            "text/plain": [
              "[['a', 'b', 'c'], ['d', 'e', 'f']]"
            ]
          },
          "metadata": {},
          "execution_count": 33
        }
      ]
    },
    {
      "cell_type": "markdown",
      "source": [
        "**Map**\n",
        "It is used as a maper of data from one state to another."
      ],
      "metadata": {
        "id": "EEbemAS4O8X2"
      }
    },
    {
      "cell_type": "code",
      "source": [
        "rdd = text.map(lambda x : x.split(' '))"
      ],
      "metadata": {
        "id": "aMcVZGHsO7Sq"
      },
      "execution_count": 11,
      "outputs": []
    },
    {
      "cell_type": "code",
      "source": [
        "rdd.collect()"
      ],
      "metadata": {
        "colab": {
          "base_uri": "https://localhost:8080/"
        },
        "id": "EqMvcmyzPlTM",
        "outputId": "f1fe7722-d02a-4a02-9315-b6d871946abe"
      },
      "execution_count": 12,
      "outputs": [
        {
          "output_type": "execute_result",
          "data": {
            "text/plain": [
              "[['1', '2', '3', '4', '5'],\n",
              " ['6', '7', '8', '9', '10'],\n",
              " ['11', '12', '131', '14', '15']]"
            ]
          },
          "metadata": {},
          "execution_count": 12
        }
      ]
    },
    {
      "cell_type": "code",
      "source": [
        "def ex(x):\n",
        "  l = x.split()\n",
        "  f = []\n",
        "  for i in l:\n",
        "    f.append(i+'hello')\n",
        "  return f\n",
        "rdd1 = text.map(ex)"
      ],
      "metadata": {
        "id": "0g_ABmuBP_4t"
      },
      "execution_count": 16,
      "outputs": []
    },
    {
      "cell_type": "code",
      "source": [
        "rdd1.collect()"
      ],
      "metadata": {
        "colab": {
          "base_uri": "https://localhost:8080/"
        },
        "id": "guDB87k0QYFN",
        "outputId": "11d228ae-fff3-4d2c-96d0-d7a6607bc168"
      },
      "execution_count": 17,
      "outputs": [
        {
          "output_type": "execute_result",
          "data": {
            "text/plain": [
              "[['1hello', '2hello', '3hello', '4hello', '5hello'],\n",
              " ['6hello', '7hello', '8hello', '9hello', '10hello'],\n",
              " ['11hello', '12hello', '131hello', '14hello', '15hello']]"
            ]
          },
          "metadata": {},
          "execution_count": 17
        }
      ]
    },
    {
      "cell_type": "markdown",
      "source": [
        "find the length of each word and return only length."
      ],
      "metadata": {
        "id": "30DVU-NzUCli"
      }
    },
    {
      "cell_type": "code",
      "source": [
        "def findlength(x):\n",
        "  l = x.split(' ')\n",
        "  f = ''\n",
        "  for i in range(len(l)):\n",
        "    if i!= len(l)-1:\n",
        "      f = f + str(len(l[i])) + ' '\n",
        "    else:\n",
        "      f = f + str(len(l[i]))\n",
        "  return f\n",
        "rdd = text.map(findlength)"
      ],
      "metadata": {
        "id": "vAVBcC6cQzj2"
      },
      "execution_count": 29,
      "outputs": []
    },
    {
      "cell_type": "code",
      "source": [
        "rdd.collect()"
      ],
      "metadata": {
        "colab": {
          "base_uri": "https://localhost:8080/"
        },
        "id": "zk11h3kaTBPn",
        "outputId": "5152216b-948d-4fec-a418-779a3f4ed275"
      },
      "execution_count": 30,
      "outputs": [
        {
          "output_type": "execute_result",
          "data": {
            "text/plain": [
              "['2 3 3 3 1', '4 3 3 5 5', '5']"
            ]
          },
          "metadata": {},
          "execution_count": 30
        }
      ]
    },
    {
      "cell_type": "markdown",
      "source": [
        "**flatMap:**\n",
        " It is used as a mapper of data and explodes data before final output."
      ],
      "metadata": {
        "id": "frd7nYnyfpsk"
      }
    },
    {
      "cell_type": "code",
      "source": [
        "rdd1 = rdd.flatMap(lambda x : x.split(' '))\n",
        "rdd1.collect()"
      ],
      "metadata": {
        "id": "nIp3KddpbKkq",
        "outputId": "18b46789-0e97-40e1-f13d-433417590b62",
        "colab": {
          "base_uri": "https://localhost:8080/"
        }
      },
      "execution_count": 45,
      "outputs": [
        {
          "output_type": "execute_result",
          "data": {
            "text/plain": [
              "['2', '3', '3', '3', '1', '4', '3', '3', '5', '5', '5']"
            ]
          },
          "metadata": {},
          "execution_count": 45
        }
      ]
    },
    {
      "cell_type": "markdown",
      "source": [
        "**filter:** It is used to remove elements from rdd."
      ],
      "metadata": {
        "id": "2pMRFmJihMoc"
      }
    },
    {
      "cell_type": "code",
      "source": [
        "rdd2 = rdd1.filter(lambda x : x!='2')\n",
        "rdd2.collect()"
      ],
      "metadata": {
        "id": "rLZ72RVJhUgl",
        "outputId": "769d6177-555b-44e8-fc61-6ae0080608f5",
        "colab": {
          "base_uri": "https://localhost:8080/"
        }
      },
      "execution_count": 43,
      "outputs": [
        {
          "output_type": "execute_result",
          "data": {
            "text/plain": [
              "['3', '3', '3', '1', '4', '3', '3', '5', '5', '5']"
            ]
          },
          "metadata": {},
          "execution_count": 43
        }
      ]
    },
    {
      "cell_type": "code",
      "source": [
        "def ex(x):\n",
        "  if x != '2':\n",
        "    return True\n",
        "  else:\n",
        "    return False\n",
        "rdd2 = rdd1.filter(ex)\n",
        "rdd2.collect()"
      ],
      "metadata": {
        "id": "quYyoOn6iO2-",
        "outputId": "83a3e3be-cafd-46f2-84f7-886467903b37",
        "colab": {
          "base_uri": "https://localhost:8080/"
        }
      },
      "execution_count": 52,
      "outputs": [
        {
          "output_type": "execute_result",
          "data": {
            "text/plain": [
              "['3', '3', '3', '1', '4', '3', '3', '5', '5', '5']"
            ]
          },
          "metadata": {},
          "execution_count": 52
        }
      ]
    },
    {
      "cell_type": "markdown",
      "source": [
        "**Distinct:** It is used to get unique/distinct elements"
      ],
      "metadata": {
        "id": "mmQnE_ZkjvCv"
      }
    },
    {
      "cell_type": "code",
      "source": [
        "def ex(x):\n",
        "  if x != '2':\n",
        "    return True\n",
        "  else:\n",
        "    return False\n",
        "rdd2 = rdd1.filter(ex)\n",
        "rdd3 = rdd2.distinct()\n",
        "rdd3.collect()"
      ],
      "metadata": {
        "id": "-ukyi9CXiz2p",
        "outputId": "9e2e4d65-a288-491a-bafc-13ee7ce0820b",
        "colab": {
          "base_uri": "https://localhost:8080/"
        }
      },
      "execution_count": 53,
      "outputs": [
        {
          "output_type": "execute_result",
          "data": {
            "text/plain": [
              "['1', '4', '3', '5']"
            ]
          },
          "metadata": {},
          "execution_count": 53
        }
      ]
    },
    {
      "cell_type": "markdown",
      "source": [
        "**Count:** It return no.of elemets in rdd."
      ],
      "metadata": {
        "id": "dLstEZFAklCO"
      }
    },
    {
      "cell_type": "code",
      "source": [
        "rdd2.count()"
      ],
      "metadata": {
        "id": "BwpmT9LPkqSM",
        "outputId": "4d4c41e4-5290-4eff-b333-fb3cddcf350d",
        "colab": {
          "base_uri": "https://localhost:8080/"
        }
      },
      "execution_count": 54,
      "outputs": [
        {
          "output_type": "execute_result",
          "data": {
            "text/plain": [
              "10"
            ]
          },
          "metadata": {},
          "execution_count": 54
        }
      ]
    },
    {
      "cell_type": "markdown",
      "source": [
        "**CountByValue:** It provides how many times each value hass occur in rdd."
      ],
      "metadata": {
        "id": "9JyuGyLtk0VG"
      }
    },
    {
      "cell_type": "code",
      "source": [
        "rdd2.countByValue()"
      ],
      "metadata": {
        "id": "OKmpLAuNlCWa",
        "outputId": "e1c0b60f-0e6e-4951-9d00-1ed4ffce6bb2",
        "colab": {
          "base_uri": "https://localhost:8080/"
        }
      },
      "execution_count": 55,
      "outputs": [
        {
          "output_type": "execute_result",
          "data": {
            "text/plain": [
              "defaultdict(int, {'3': 5, '1': 1, '4': 1, '5': 3})"
            ]
          },
          "metadata": {},
          "execution_count": 55
        }
      ]
    }
  ],
  "metadata": {
    "colab": {
      "name": "Welcome To Colab",
      "provenance": [],
      "include_colab_link": true
    },
    "kernelspec": {
      "display_name": "Python 3",
      "name": "python3"
    }
  },
  "nbformat": 4,
  "nbformat_minor": 0
}